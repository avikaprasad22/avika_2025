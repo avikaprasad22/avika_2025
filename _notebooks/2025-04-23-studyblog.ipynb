{
 "cells": [
  {
   "cell_type": "raw",
   "id": "ac72e718",
   "metadata": {
    "vscode": {
     "languageId": "raw"
    }
   },
   "source": [
    "---\n",
    "layout: post\n",
    "title: Study Blog\n",
    "permalink: /study/\n",
    "author: Avika Prasad\n",
    "---"
   ]
  },
  {
   "cell_type": "markdown",
   "id": "fa77abb4",
   "metadata": {},
   "source": [
    "# 📘 AP Computer Science Principles - 3 Week Study Plan\n",
    "\n",
    "---\n",
    "\n",
    "## ✅ STEP 1: Foundations & Big Ideas\n",
    "\n",
    "| Day | Date | Topic | Completed |\n",
    "|-----|------|-------|-----------|\n",
    "| 1   |      | Overview + Big Idea 1: Creative Development | [ ] |\n",
    "| 2   |      | Big Idea 2: Data | [ ] |\n",
    "| 3   |      | Big Idea 3 (Part 1): Variables, Conditionals, Loops | [ ] |\n",
    "| 4   |      | Big Idea 3 (Part 2): Lists, Procedures, Algorithms | [ ] |\n",
    "| 5   |      | Practice MCQs (20–30 questions) | [ ] |\n",
    "| 6   |      | Big Idea 4: Computer Systems & Networks | [ ] |\n",
    "| 7   |      | Weekly Review + Flashcards | [ ] |\n",
    "\n",
    "---\n",
    "\n",
    "## ✅ STEP 2: Deep Dive & Practice\n",
    "\n",
    "| Day | Date | Topic | Completed |\n",
    "|-----|------|-------|-----------|\n",
    "| 8   |      | Big Idea 5: Impact of Computing | [ ] |\n",
    "| 9   |      | Big Idea 6: Programming Performance Task | [ ] |\n",
    "| 10  |      | Big Idea 7: Global Impact | [ ] |\n",
    "| 11  |      | Practice FRQs (2–3 questions) | [ ] |\n",
    "| 12  |      | Debugging + Algorithm Practice | [ ] |\n",
    "| 13  |      | Mixed MCQ Practice | [ ] |\n",
    "| 14  |      | Full Practice Test | [ ] |\n",
    "\n",
    "---\n",
    "\n",
    "## ✅ STEP 3: Review & Strategy\n",
    "\n",
    "| Day | Date | Topic | Completed |\n",
    "|-----|------|-------|-----------|\n",
    "| 15  |      | Review Big Ideas 1–3 + Quiz | [ ] |\n",
    "| 16  |      | Review Big Ideas 4–7 + Quiz | [ ] |\n",
    "| 17  |      | Timed Practice Test | [ ] |\n",
    "| 18  |      | Analyze Practice Test Results | [ ] |\n",
    "| 19  |      | Focused Review (Weak Areas) | [ ] |\n",
    "| 20  |      | Final Vocab, Pseudocode Review | [ ] |\n",
    "| 21  |      | Light Review & Rest | [ ] |"
   ]
  },
  {
   "cell_type": "markdown",
   "id": "c72f09d4",
   "metadata": {},
   "source": [
    "  <h2>AP CSP 2-Week Study Plan</h2>\n",
    "\n",
    "## Topics that I didn't recieve a 100% on were <b>binary numbers, data compression, iteration, lists, calling procedures, algorithmic efficiency, the internet, parallel and distributed computing, and legal and ethical concerns</b>.\n",
    "  \n",
    "##  Here's a study plan to improve in those areas.\n",
    "\n",
    "# 2-Week CSP Study Plan\n",
    "\n",
    "| Day | Topics Covered | Goals | Resources/Activities |\n",
    "|-----|----------------|-------|-----------------------|\n",
    "| 1 | Binary Numbers | Understand binary, decimal conversions, binary arithmetic | Review Khan Academy / CollegeBoard materials; practice binary conversions |\n",
    "| 2 | Data Compression | Learn lossless vs. lossy compression; examples of each | Watch videos, do practice questions on Huffman coding, run simulations |\n",
    "| 3 | Iteration | Learn loops (for, while) and their structure | Practice writing simple Python loops on Replit or in pseudocode |\n",
    "| 4 | Lists | Understand list operations (indexing, appending, traversing) | Practice manipulating lists in pseudocode and Python |\n",
    "| 5 | Calling Procedures | Learn how to define and call procedures (functions) with/without parameters | Write simple procedures and trace calls manually |\n",
    "| 6 | Algorithmic Efficiency | Understand linear vs binary search, nested loops, big-O basics | Compare algorithm runtimes; trace and compare code snippets |\n",
    "| 7 | Review & Practice | Reinforce topics from days 1–6 | Mixed review quiz, flashcards, and reflection notes |\n",
    "| 8 | The Internet (Basics) | Understand IP, DNS, packets, protocols | Watch CrashCourse or Code.org videos; label diagrams |\n",
    "| 9 | Cybersecurity & Internet | Understand encryption, digital certificates, secure transmission | Practice scenarios; identify secure vs insecure examples |\n",
    "| 10 | Parallel and Distributed Computing | Understand differences, pros/cons, and examples | Simulations on how distributed systems work; real-world case studies |\n",
    "| 11 | Legal & Ethical Concerns | Learn about data privacy, copyright, fair use, digital divide | Read case studies and identify ethical concerns |\n",
    "| 12 | Mixed Practice | Combine topics: internet, compression, computing ethics | Scenario-based practice and multiple-choice questions |\n",
    "| 13 | Practice Exam Day | Take a timed mini-mock CSP exam (focus on weak areas) | Analyze performance and identify lingering weak spots |\n",
    "| 14 | Final Review | Review all mistakes and summarize each topic in 1-page notes | Create cheat sheets and quiz yourself with flashcards |"
   ]
  },
  {
   "cell_type": "markdown",
   "id": "58c84a12",
   "metadata": {},
   "source": [
    "## CPT In-Progress\n",
    "\n",
    "<img src=\"{{site.baseurl}}/images/in_progress.png\" style=\"max-width: 80%; border-radius: 10px; box-shadow: 5px 5px 15px rgba(0,0,0,0.2);\">"
   ]
  },
  {
   "cell_type": "markdown",
   "id": "4e1cc429",
   "metadata": {},
   "source": [
    "## MCQ Completetion - (55/70)\n",
    "<img src=\"{{site.baseurl}}/images/mcq2021.png\" style=\"max-width: 80%; border-radius: 10px; box-shadow: 5px 5px 15px rgba(0,0,0,0.2);\">\n",
    "\n",
    "2018: https://avikaprasad22.github.io/avika_2025/mc+sprint3/\n",
    "<br>\n",
    "2020: https://avikaprasad22.github.io/avika_2025/final/\n",
    "<br>\n",
    "2021: Just completed, review in progress currently."
   ]
  },
  {
   "cell_type": "markdown",
   "id": "ec0769a3",
   "metadata": {},
   "source": [
    "## Video Series for Studying\n",
    "<iframe width=\"560\" height=\"315\" src=\"https://www.youtube.com/embed/Id4vPEy8F9s?si=t8pLBL3_QmKXNhng\" title=\"YouTube video player\" frameborder=\"0\" allow=\"accelerometer; autoplay; clipboard-write; encrypted-media; gyroscope; picture-in-picture; web-share\" referrerpolicy=\"strict-origin-when-cross-origin\" allowfullscreen></iframe>"
   ]
  },
  {
   "cell_type": "markdown",
   "id": "c94a5311",
   "metadata": {},
   "source": [
    "## Lesson HWs to Review: \n",
    "<table>\n",
    "  <tr>\n",
    "    <th>HWs</th>\n",
    "    <th></th>\n",
    "  </tr>\n",
    "  <tr>\n",
    "    <td> <a href=\"https://github.com/avikaprasad22/avika_2025/issues/14\"> <button style=\"background-color: #F88379; color: white; padding: 10px\"> Beneficial Harmful Effects </button> </a> </td> \n",
    "    <td> <a href=\"{{site.baseurl}}/dd/\"> <button style=\"background-color: #F88379; color: white; padding: 10px\"> Digital Divide </button> </a> </td>\n",
    "  </tr>\n",
    "  <tr>\n",
    "    <td> <a href=\"{{site.baseurl}}/compbias/\"> <button style=\"background-color: #F88379; color: white; padding: 10px\"> Computing Bias </button> </a> </td> \n",
    "    <td> <a href=\"{{site.baseurl}}/crowd/\"> <button style=\"background-color: #F88379; color: white; padding: 10px\"> Crowdsourcing </button> </a> </td>\n",
    "  </tr>\n",
    "  <tr>\n",
    "    <td> <a href=\"{{site.baseurl}}/sc/\"> <button style=\"background-color: #F88379; color: white; padding: 10px\"> Safe Computing </button> </a> </td> \n",
    "    <td>\n",
    "    <a href=\"{{site.baseurl}}/lists/\"> <button style=\"background-color: #F88379; color: white; padding: 10px\"> Lists </button> </a> </td>\n",
    "  </tr>\n",
    "</table>"
   ]
  }
 ],
 "metadata": {
  "language_info": {
   "name": "python"
  }
 },
 "nbformat": 4,
 "nbformat_minor": 5
}
