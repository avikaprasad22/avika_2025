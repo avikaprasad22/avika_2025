{
 "cells": [
  {
   "cell_type": "raw",
   "id": "ac72e718",
   "metadata": {
    "vscode": {
     "languageId": "raw"
    }
   },
   "source": [
    "---\n",
    "layout: post\n",
    "title: Study Blog\n",
    "permalink: /study/\n",
    "author: Avika Prasad\n",
    "---"
   ]
  },
  {
   "cell_type": "markdown",
   "id": "fa77abb4",
   "metadata": {},
   "source": [
    "# 📘 AP Computer Science Principles - 3 Week Study Plan\n",
    "\n",
    "---\n",
    "\n",
    "## ✅ STEP 1: Foundations & Big Ideas\n",
    "\n",
    "| Day | Date | Topic | Completed |\n",
    "|-----|------|-------|-----------|\n",
    "| 1   |      | Overview + Big Idea 1: Creative Development | [ ] |\n",
    "| 2   |      | Big Idea 2: Data | [ ] |\n",
    "| 3   |      | Big Idea 3 (Part 1): Variables, Conditionals, Loops | [ ] |\n",
    "| 4   |      | Big Idea 3 (Part 2): Lists, Procedures, Algorithms | [ ] |\n",
    "| 5   |      | Practice MCQs (20–30 questions) | [ ] |\n",
    "| 6   |      | Big Idea 4: Computer Systems & Networks | [ ] |\n",
    "| 7   |      | Weekly Review + Flashcards | [ ] |\n",
    "\n",
    "---\n",
    "\n",
    "## ✅ STEP 2: Deep Dive & Practice\n",
    "\n",
    "| Day | Date | Topic | Completed |\n",
    "|-----|------|-------|-----------|\n",
    "| 8   |      | Big Idea 5: Impact of Computing | [ ] |\n",
    "| 9   |      | Big Idea 6: Programming Performance Task | [ ] |\n",
    "| 10  |      | Big Idea 7: Global Impact | [ ] |\n",
    "| 11  |      | Practice FRQs (2–3 questions) | [ ] |\n",
    "| 12  |      | Debugging + Algorithm Practice | [ ] |\n",
    "| 13  |      | Mixed MCQ Practice | [ ] |\n",
    "| 14  |      | Full Practice Test | [ ] |\n",
    "\n",
    "---\n",
    "\n",
    "## ✅ STEP 3: Review & Strategy\n",
    "\n",
    "| Day | Date | Topic | Completed |\n",
    "|-----|------|-------|-----------|\n",
    "| 15  |      | Review Big Ideas 1–3 + Quiz | [ ] |\n",
    "| 16  |      | Review Big Ideas 4–7 + Quiz | [ ] |\n",
    "| 17  |      | Timed Practice Test | [ ] |\n",
    "| 18  |      | Analyze Practice Test Results | [ ] |\n",
    "| 19  |      | Focused Review (Weak Areas) | [ ] |\n",
    "| 20  |      | Final Vocab, Pseudocode Review | [ ] |\n",
    "| 21  |      | Light Review & Rest | [ ] |"
   ]
  },
  {
   "cell_type": "markdown",
   "id": "c72f09d4",
   "metadata": {},
   "source": [
    "  <h2>AP CSP 2-Week Study Plan</h2>\n",
    "  <table>\n",
    "    <thead>\n",
    "      <tr>\n",
    "        <th>Day</th>\n",
    "        <th>Topics / Units</th>\n",
    "        <th>Activities</th>\n",
    "        <th>Time</th>\n",
    "        <th>Notes</th>\n",
    "      </tr>\n",
    "    </thead>\n",
    "    <tbody>\n",
    "      <tr><td>Day 1</td><td>Unit 1: The Internet</td><td>Review notes/videos, vocab, and complete 5 practice MCQs</td><td>1.5 hrs</td><td>Focus on protocols (HTTP, TCP/IP), packets</td></tr>\n",
    "      <tr><td>Day 2</td><td>Unit 2: Digital Information</td><td>Review binary, compression, data types; practice FRQ</td><td>2 hrs</td><td>Do 1 FRQ about data abstraction</td></tr>\n",
    "      <tr><td>Day 3</td><td>Unit 3: Programming (part 1)</td><td>Review sequencing, variables, and functions; try 10 MCQs</td><td>2 hrs</td><td>Use pseudocode practice questions</td></tr>\n",
    "      <tr><td>Day 4</td><td>Unit 3: Programming (part 2)</td><td>Review loops and conditionals; complete 2 coding tasks</td><td>2 hrs</td><td>Use any language—focus on logic</td></tr>\n",
    "      <tr><td>Day 5</td><td>Unit 4: Big Data & Privacy</td><td>Watch College Board videos; summarize 3 key points per video</td><td>1.5 hrs</td><td>Practice short-answer responses</td></tr>\n",
    "      <tr><td>Day 6</td><td>Unit 5: Impact of Computing</td><td>Create 1-page summary of key social impacts; read 1 article</td><td>1.5 hrs</td><td>Think about real-world applications</td></tr>\n",
    "      <tr><td>Day 7</td><td>Practice FRQs + Review Units 1–3</td><td>Do 2 FRQs + flashcards for Units 1–3</td><td>2 hrs</td><td>Time yourself for practice</td></tr>\n",
    "      <tr><td>Day 8</td><td>Review Units 4–5 + Practice MCQs</td><td>Do 10–15 MCQs + revisit notes or errors made in practice</td><td>1.5 hrs</td><td>Focus on reasoning, not memorization</td></tr>\n",
    "      <tr><td>Day 9</td><td>Create Task Guidelines</td><td>Revisit rubric + look at sample Create Tasks</td><td>1.5 hrs</td><td>Reflect on what makes a good submission</td></tr>\n",
    "      <tr><td>Day 10</td><td>Full Practice Exam (MCQ)</td><td>Take under timed conditions</td><td>1.5 hrs</td><td>Review wrong answers after</td></tr>\n",
    "      <tr><td>Day 11</td><td>Full Practice Exam (FRQ)</td><td>4 FRQs, timed</td><td>1.5 hrs</td><td>Self-grade with scoring guidelines</td></tr>\n",
    "      <tr><td>Day 12</td><td>Targeted Review</td><td>Rewatch 2 videos + redo practice for weak areas</td><td>2 hrs</td><td>Focus your attention strategically</td></tr>\n",
    "      <tr><td>Day 13</td><td>Mixed Practice</td><td>10 MCQs + 1 FRQ from any topic</td><td>1.5 hrs</td><td>Simulate real test conditions</td></tr>\n",
    "      <tr><td>Day 14</td><td>Light Review + Strategy</td><td>Review vocab, plan timing strategy, relax</td><td>1 hr</td><td>Don’t cram—focus on confidence</td></tr>\n",
    "    </tbody>\n",
    "  </table>"
   ]
  },
  {
   "cell_type": "markdown",
   "id": "58c84a12",
   "metadata": {},
   "source": [
    "## CPT In-Progress\n",
    "\n",
    "<img src=\"{{site.baseurl}}/images/in_progress.png\" style=\"max-width: 80%; border-radius: 10px; box-shadow: 5px 5px 15px rgba(0,0,0,0.2);\">"
   ]
  },
  {
   "cell_type": "markdown",
   "id": "4e1cc429",
   "metadata": {},
   "source": [
    "## MCQ Completetion - (55/70)\n",
    "<img src=\"{{site.baseurl}}/images/mcq2021.png\" style=\"max-width: 80%; border-radius: 10px; box-shadow: 5px 5px 15px rgba(0,0,0,0.2);\">\n",
    "\n",
    "2018: https://avikaprasad22.github.io/avika_2025/mc+sprint3/\n",
    "<br>\n",
    "2020: https://avikaprasad22.github.io/avika_2025/final/\n",
    "<br>\n",
    "2021: Just completed, review in progress currently."
   ]
  },
  {
   "cell_type": "markdown",
   "id": "ec0769a3",
   "metadata": {},
   "source": [
    "## Video Series for Studying\n",
    "<iframe width=\"560\" height=\"315\" src=\"https://www.youtube.com/embed/Id4vPEy8F9s?si=t8pLBL3_QmKXNhng\" title=\"YouTube video player\" frameborder=\"0\" allow=\"accelerometer; autoplay; clipboard-write; encrypted-media; gyroscope; picture-in-picture; web-share\" referrerpolicy=\"strict-origin-when-cross-origin\" allowfullscreen></iframe>"
   ]
  },
  {
   "cell_type": "markdown",
   "id": "c94a5311",
   "metadata": {},
   "source": [
    "## Lesson HWs to Review: \n",
    "<table>\n",
    "  <tr>\n",
    "    <th>HWs</th>\n",
    "    <th></th>\n",
    "  </tr>\n",
    "  <tr>\n",
    "    <td> <a href=\"https://github.com/avikaprasad22/avika_2025/issues/14\"> <button style=\"background-color: #F88379; color: white; padding: 10px\"> Beneficial Harmful Effects </button> </a> </td> \n",
    "    <td> <a href=\"{{site.baseurl}}/dd/\"> <button style=\"background-color: #F88379; color: white; padding: 10px\"> Digital Divide </button> </a> </td>\n",
    "  </tr>\n",
    "  <tr>\n",
    "    <td> <a href=\"{{site.baseurl}}/compbias/\"> <button style=\"background-color: #F88379; color: white; padding: 10px\"> Computing Bias </button> </a> </td> \n",
    "    <td> <a href=\"{{site.baseurl}}/crowd/\"> <button style=\"background-color: #F88379; color: white; padding: 10px\"> Crowdsourcing </button> </a> </td>\n",
    "  </tr>\n",
    "  <tr>\n",
    "    <td> <a href=\"{{site.baseurl}}/sc/\"> <button style=\"background-color: #F88379; color: white; padding: 10px\"> Safe Computing </button> </a> </td> \n",
    "    <td>\n",
    "    <a href=\"{{site.baseurl}}/lists/\"> <button style=\"background-color: #F88379; color: white; padding: 10px\"> Lists </button> </a> </td>\n",
    "  </tr>\n",
    "</table>"
   ]
  }
 ],
 "metadata": {
  "language_info": {
   "name": "python"
  }
 },
 "nbformat": 4,
 "nbformat_minor": 5
}
