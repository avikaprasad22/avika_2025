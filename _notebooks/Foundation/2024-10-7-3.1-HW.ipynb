{
 "cells": [
  {
   "cell_type": "code",
   "execution_count": 1,
   "metadata": {},
   "outputs": [
    {
     "name": "stdout",
     "output_type": "stream",
     "text": [
      "Initial value: 42, Type: <class 'int'>\n",
      "After changing to float: 42.0, Type: <class 'float'>\n",
      "After changing to string: Forty-two, Type: <class 'str'>\n",
      "After changing to boolean: True, Type: <class 'bool'>\n"
     ]
    }
   ],
   "source": [
    "# Initialize the variable\n",
    "var = 42\n",
    "print(f\"Initial value: {var}, Type: {type(var)}\")\n",
    "\n",
    "# Change to float\n",
    "var = 42.0\n",
    "print(f\"After changing to float: {var}, Type: {type(var)}\")\n",
    "\n",
    "# Change to string\n",
    "var = \"Forty-two\"\n",
    "print(f\"After changing to string: {var}, Type: {type(var)}\")\n",
    "\n",
    "# Change to boolean\n",
    "var = True\n",
    "print(f\"After changing to boolean: {var}, Type: {type(var)}\")"
   ]
  },
  {
   "cell_type": "code",
   "execution_count": null,
   "metadata": {
    "vscode": {
     "languageId": "javascript"
    }
   },
   "outputs": [
    {
     "ename": "",
     "evalue": "",
     "output_type": "error",
     "traceback": [
      "\u001b[1;31mRunning cells with 'Python 3.9.6 64-bit' requires ipykernel package.\n",
      "\u001b[1;31mRun the following command to install 'ipykernel' into the Python environment. \n",
      "\u001b[1;31mCommand: '/usr/bin/python3 -m pip install ipykernel -U --user --force-reinstall'"
     ]
    }
   ],
   "source": [
    "// User profile data\n",
    "let fullName = \"Avika Prasad\";           // Users full name\n",
    "let age = 15;                        // Users age\n",
    "let email = \"avikapd22@gmail.com\";  // Users email address\n",
    "let accountBalance = 0;        // Users account balance\n",
    "\n",
    "// Displaying the users profile\n",
    "console.log(\"User Profile:\");\n",
    "console.log(`Full Name: ${fullName}`);\n",
    "console.log(`Age: ${age}`);\n",
    "console.log(`Email: ${email}`);\n",
    "console.log(`Account Balance: $${accountBalance.toFixed(2)}`);"
   ]
  }
 ],
 "metadata": {
  "kernelspec": {
   "display_name": "Python 3.12.3 ('venv': venv)",
   "language": "python",
   "name": "python3"
  },
  "language_info": {
   "codemirror_mode": {
    "name": "ipython",
    "version": 3
   },
   "file_extension": ".py",
   "mimetype": "text/x-python",
   "name": "python",
   "nbconvert_exporter": "python",
   "pygments_lexer": "ipython3",
   "version": "3.12.3"
  },
  "orig_nbformat": 4,
  "vscode": {
   "interpreter": {
    "hash": "bf569676fd74d20a0aa4ef08becfdc6e16f4ffe4c18f47548ca47d19e333d0fe"
   }
  }
 },
 "nbformat": 4,
 "nbformat_minor": 2
}
