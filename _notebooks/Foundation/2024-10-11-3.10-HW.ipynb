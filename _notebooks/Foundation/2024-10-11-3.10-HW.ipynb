{
 "cells": [
  {
   "cell_type": "code",
   "execution_count": 1,
   "metadata": {},
   "outputs": [
    {
     "name": "stdout",
     "output_type": "stream",
     "text": [
      "2\n",
      "4\n",
      "6\n",
      "8\n",
      "10\n"
     ]
    }
   ],
   "source": [
    "def display_even_numbers(numbers):\n",
    "    # Iterate over the list and print only even numbers\n",
    "    for num in numbers:\n",
    "        if num % 2 == 0:\n",
    "            print(num)\n",
    "\n",
    "# Example usage with a list of numbers\n",
    "numbers = [1, 2, 3, 4, 5, 6, 7, 8, 9, 10]\n",
    "display_even_numbers(numbers)"
   ]
  },
  {
   "cell_type": "code",
   "execution_count": 2,
   "metadata": {},
   "outputs": [
    {
     "name": "stdout",
     "output_type": "stream",
     "text": [
      "Maximum value: 89\n",
      "Minimum value: 1\n"
     ]
    }
   ],
   "source": [
    "def find_max_min(numbers):\n",
    "    # Initialize max and min with the first element of the list\n",
    "    max_value = numbers[0]\n",
    "    min_value = numbers[0]\n",
    "\n",
    "    # Iterate through the list to find max and min\n",
    "    for num in numbers:\n",
    "        if num > max_value:\n",
    "            max_value = num\n",
    "        if num < min_value:\n",
    "            min_value = num\n",
    "\n",
    "    return max_value, min_value\n",
    "\n",
    "# Example usage:\n",
    "numbers = [34, 12, 45, 2, 67, 23, 89, 1]\n",
    "max_value, min_value = find_max_min(numbers)\n",
    "\n",
    "print(f\"Maximum value: {max_value}\")\n",
    "print(f\"Minimum value: {min_value}\")"
   ]
  },
  {
   "cell_type": "code",
   "execution_count": null,
   "metadata": {
    "vscode": {
     "languageId": "javascript"
    }
   },
   "outputs": [],
   "source": [
    "// Step 1: Create an array with the integers in random order\n",
    "let randomNumbers = [9, 1, 80, 3, 77, 4, 8]; // These are the same integers but in random order\n",
    "\n",
    "// Step 2: Sort the array in numerical order using the sort() method\n",
    "randomNumbers.sort(function(a, b) {\n",
    "    return a - b; // Numerical comparison\n",
    "});\n",
    "\n",
    "// Output the sorted array\n",
    "console.log(\"Sorted numbers:\", randomNumbers);"
   ]
  },
  {
   "cell_type": "code",
   "execution_count": null,
   "metadata": {
    "vscode": {
     "languageId": "html"
    }
   },
   "outputs": [],
   "source": [
    "<!DOCTYPE html>\n",
    "<html lang=\"en\">\n",
    "<head>\n",
    "    <meta charset=\"UTF-8\">\n",
    "    <meta name=\"viewport\" content=\"width=device-width, initial-scale=1.0\">\n",
    "    <title>Shopping List</title>\n",
    "    <style>\n",
    "        body {\n",
    "            font-family: Arial, sans-serif;\n",
    "            margin: 20px;\n",
    "        }\n",
    "        #shopping-list {\n",
    "            margin-top: 20px;\n",
    "        }\n",
    "    </style>\n",
    "</head>\n",
    "<body>\n",
    "\n",
    "<h1>Shopping List</h1>\n",
    "\n",
    "<!-- Input field for item name -->\n",
    "<label for=\"itemName\">Item Name:</label>\n",
    "<input type=\"text\" id=\"itemName\" placeholder=\"Enter item name\">\n",
    "<br>\n",
    "<button onclick=\"addItem()\">Add Item</button>\n",
    "<button onclick=\"removeItem()\">Remove Item</button>\n",
    "<button onclick=\"viewList()\">View List</button>\n",
    "<button onclick=\"clearList()\">Clear List</button>\n",
    "\n",
    "<!-- Area to display the shopping list -->\n",
    "<div id=\"shopping-list\"></div>\n",
    "\n",
    "<script>\n",
    "    // Shopping list array\n",
    "    let shoppingList = [];\n",
    "\n",
    "    // Function to add item to the shopping list\n",
    "    function addItem() {\n",
    "        const itemName = document.getElementById('itemName').value;\n",
    "\n",
    "        // Check if item name is valid\n",
    "        if (itemName === '') {\n",
    "            alert('Please enter a valid item name.');\n",
    "            return;\n",
    "        }\n",
    "\n",
    "        // Add item to the shopping list\n",
    "        shoppingList.push(itemName);\n",
    "\n",
    "        // Clear input field\n",
    "        document.getElementById('itemName').value = '';\n",
    "\n",
    "        alert(`${itemName} has been added to the shopping list.`);\n",
    "    }\n",
    "\n",
    "    // Function to remove item from the shopping list\n",
    "    function removeItem() {\n",
    "        const itemName = document.getElementById('itemName').value;\n",
    "\n",
    "        // Find the index of the item in the shopping list\n",
    "        const index = shoppingList.findIndex(item => item.toLowerCase() === itemName.toLowerCase());\n",
    "\n",
    "        // If item is found, remove it\n",
    "        if (index !== -1) {\n",
    "            shoppingList.splice(index, 1);\n",
    "            alert(`${itemName} has been removed from the shopping list.`);\n",
    "        } else {\n",
    "            alert(`${itemName} is not in the shopping list.`);\n",
    "        }\n",
    "\n",
    "        // Clear input field\n",
    "        document.getElementById('itemName').value = '';\n",
    "    }\n",
    "\n",
    "    // Function to view the shopping list\n",
    "    function viewList() {\n",
    "        const shoppingListDiv = document.getElementById('shopping-list');\n",
    "        shoppingListDiv.innerHTML = ''; // Clear previous list view\n",
    "\n",
    "        if (shoppingList.length === 0) {\n",
    "            shoppingListDiv.innerHTML = '<p>Your shopping list is empty.</p>';\n",
    "            return;\n",
    "        }\n",
    "\n",
    "        // Create a list to display the items\n",
    "        const list = document.createElement('ul');\n",
    "\n",
    "        shoppingList.forEach(item => {\n",
    "            const listItem = document.createElement('li');\n",
    "            listItem.textContent = item;\n",
    "            list.appendChild(listItem);\n",
    "        });\n",
    "\n",
    "        shoppingListDiv.appendChild(list);\n",
    "    }\n",
    "\n",
    "    // Function to clear the shopping list\n",
    "    function clearList() {\n",
    "        shoppingList = [];\n",
    "        document.getElementById('shopping-list').innerHTML = '<p>Your shopping list has been cleared.</p>';\n",
    "    }\n",
    "</script>\n",
    "\n",
    "</body>\n",
    "</html>\n"
   ]
  }
 ],
 "metadata": {
  "kernelspec": {
   "display_name": "Python 3.12.3 ('venv': venv)",
   "language": "python",
   "name": "python3"
  },
  "language_info": {
   "codemirror_mode": {
    "name": "ipython",
    "version": 3
   },
   "file_extension": ".py",
   "mimetype": "text/x-python",
   "name": "python",
   "nbconvert_exporter": "python",
   "pygments_lexer": "ipython3",
   "version": "3.12.3"
  },
  "orig_nbformat": 4,
  "vscode": {
   "interpreter": {
    "hash": "bf569676fd74d20a0aa4ef08becfdc6e16f4ffe4c18f47548ca47d19e333d0fe"
   }
  }
 },
 "nbformat": 4,
 "nbformat_minor": 2
}
