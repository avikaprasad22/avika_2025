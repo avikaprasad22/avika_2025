{
 "cells": [
  {
   "cell_type": "raw",
   "metadata": {},
   "source": [
    "---\n",
    "layout: post\n",
    "title: Frontend Hacks\n",
    "desrcription: Hello In JavaScript, Displaying JS Using DOMS, Input/Outputs!\n",
    "comments: true\n",
    "permalink: /frontend/\n",
    "---"
   ]
  },
  {
   "cell_type": "code",
   "execution_count": 4,
   "metadata": {},
   "outputs": [
    {
     "name": "stderr",
     "output_type": "stream",
     "text": [
      "/var/folders/0t/v_37b_gs2rl59djqsqmph6v80000gn/T/ipykernel_8467/2093410181.py:1: DeprecationWarning: Importing display from IPython.core.display is deprecated since IPython 7.14, please import from IPython display\n",
      "  from IPython.core.display import display, HTML\n"
     ]
    },
    {
     "data": {
      "text/html": [
       "\n",
       "    <!DOCTYPE html>\n",
       "    <html lang=\"en\">\n",
       "    <head>\n",
       "        <meta charset=\"UTF-8\">\n",
       "        <meta name=\"viewport\" content=\"width=device-width, initial-scale=1.0\">\n",
       "        <title>Say Hello</title>\n",
       "        <script>\n",
       "            function sayHello() {\n",
       "                var name = document.getElementById(\"nameInput\").value;\n",
       "                document.getElementById(\"greeting\").innerHTML = \"Hello \" + name + \"!\";\n",
       "            }\n",
       "        </script>\n",
       "    </head>\n",
       "    <body>\n",
       "        <h1>Enter your name</h1>\n",
       "        <input type=\"text\" id=\"nameInput\" placeholder=\"Your name\">\n",
       "        <button onclick=\"sayHello()\">Submit</button>\n",
       "\n",
       "        <h2 id=\"greeting\"></h2>\n",
       "    </body>\n",
       "    </html>\n"
      ],
      "text/plain": [
       "<IPython.core.display.HTML object>"
      ]
     },
     "metadata": {},
     "output_type": "display_data"
    }
   ],
   "source": [
    "from IPython.core.display import display, HTML\n",
    "\n",
    "display(HTML('''\n",
    "    <!DOCTYPE html>\n",
    "    <html lang=\"en\">\n",
    "    <head>\n",
    "        <meta charset=\"UTF-8\">\n",
    "        <meta name=\"viewport\" content=\"width=device-width, initial-scale=1.0\">\n",
    "        <title>Say Hello</title>\n",
    "        <script>\n",
    "            function sayHello() {\n",
    "                var name = document.getElementById(\"nameInput\").value;\n",
    "                document.getElementById(\"greeting\").innerHTML = \"Hello \" + name + \"!\";\n",
    "            }\n",
    "        </script>\n",
    "    </head>\n",
    "    <body>\n",
    "        <h1 style=\"background-color: #000000\">Enter your name</h1>\n",
    "        <input type=\"text\" id=\"nameInput\" placeholder=\"Your name\">\n",
    "        <button onclick=\"sayHello()\">Submit</button>\n",
    "\n",
    "        <h2 id=\"greeting\"></h2>\n",
    "    </body>\n",
    "    </html>\n",
    "'''))"
   ]
  },
  {
   "cell_type": "code",
   "execution_count": 7,
   "metadata": {},
   "outputs": [
    {
     "data": {
      "application/javascript": "console.log(\"Object: assigning key-value objects\");\nvar obj = {\n    name: \"Avika\",\n    age: 15,\n    classes: [\"AP Chem\", \"AP Calculus AB\", \"AP English Seminar\", \"AP CSP\"]\n};\n\n// Printing the object to the console\nconsole.log(obj);\n// -> { name: 'Avika', age: 15, classes: ['AP Chem', 'AP Calculus AB', 'AP English Seminar', 'AP CSP'] }\n\n// Accessing object fields\nconsole.log(obj.name);\n// -> Avika\nconsole.log(obj.age);\n// -> 15\nconsole.log(obj.classes);\n// ->  ['AP Chem', 'AP Calculus AB', 'AP English Seminar', 'AP CSP']\n",
      "text/plain": [
       "<IPython.core.display.Javascript object>"
      ]
     },
     "metadata": {},
     "output_type": "display_data"
    }
   ],
   "source": [
    "%%javascript\n",
    "console.log(\"Object: assigning key-value objects\");\n",
    "var obj = {\n",
    "    name: \"Avika\",\n",
    "    age: 15,\n",
    "    classes: [\"AP Chem\", \"AP Calculus AB\", \"AP English Seminar\", \"AP CSP\"]\n",
    "};\n",
    "\n",
    "// Printing the object to the console\n",
    "console.log(obj);\n",
    "// -> { name: 'Avika', age: 15, classes: ['AP Chem', 'AP Calculus AB', 'AP English Seminar', 'AP CSP'] }\n",
    "\n",
    "// Accessing object fields\n",
    "console.log(obj.name);\n",
    "// -> Avika\n",
    "console.log(obj.age);\n",
    "// -> 15\n",
    "console.log(obj.classes);\n",
    "// ->  ['AP Chem', 'AP Calculus AB', 'AP English Seminar', 'AP CSP']"
   ]
  },
  {
   "cell_type": "markdown",
   "metadata": {},
   "source": [
    "## Javascript doesn't run properly in a jupyter notebook as seen above. See how we use DOMS to fix this issue below!"
   ]
  },
  {
   "cell_type": "code",
   "execution_count": 12,
   "metadata": {},
   "outputs": [
    {
     "name": "stderr",
     "output_type": "stream",
     "text": [
      "/var/folders/0t/v_37b_gs2rl59djqsqmph6v80000gn/T/ipykernel_8467/942155872.py:1: DeprecationWarning: Importing display from IPython.core.display is deprecated since IPython 7.14, please import from IPython display\n",
      "  from IPython.core.display import display, HTML\n"
     ]
    },
    {
     "data": {
      "text/html": [
       "\n",
       "<!DOCTYPE html>\n",
       "<html lang=\"en\">\n",
       "<head>\n",
       "    <meta charset=\"UTF-8\">\n",
       "    <meta name=\"viewport\" content=\"width=device-width, initial-scale=1.0\">\n",
       "    <title>Display Object</title>\n",
       "</head>\n",
       "<body>\n",
       "    <h1>Displaying Object Data</h1>\n",
       "    \n",
       "    <!-- These are the paragraphs where the output will be shown -->\n",
       "    <p id=\"name\"></p>\n",
       "    <p id=\"age\"></p>\n",
       "    <p id=\"classes\"></p>\n",
       "    \n",
       "    <script>\n",
       "        // Create the object\n",
       "        var obj = {\n",
       "            name: \"Avika\",\n",
       "            age: 15,\n",
       "            classes: [\"AP Chem\", \"AP Calculus AB\", \"AP English Seminar\", \"AP CSP\"]\n",
       "        };\n",
       "\n",
       "        // Set the inner HTML of the paragraphs\n",
       "        document.getElementById(\"name\").innerHTML = \"Name: \" + obj.name;\n",
       "        document.getElementById(\"age\").innerHTML = \"Age: \" + obj.age;\n",
       "        document.getElementById(\"classes\").innerHTML = \"Classes: \" + obj.classes.join(\", \");\n",
       "    </script>\n",
       "</body>\n",
       "</html>\n"
      ],
      "text/plain": [
       "<IPython.core.display.HTML object>"
      ]
     },
     "metadata": {},
     "output_type": "display_data"
    }
   ],
   "source": [
    "from IPython.core.display import display, HTML\n",
    "\n",
    "display(HTML('''\n",
    "<!DOCTYPE html>\n",
    "<html lang=\"en\">\n",
    "<head>\n",
    "    <meta charset=\"UTF-8\">\n",
    "    <meta name=\"viewport\" content=\"width=device-width, initial-scale=1.0\">\n",
    "    <title>Display Object</title>\n",
    "</head>\n",
    "<body>\n",
    "    <h1>Using DOMS  to Display Objects</h1>\n",
    "    \n",
    "    <!-- These are the paragraphs where the output will be shown -->\n",
    "    <p id=\"name\"></p>\n",
    "    <p id=\"age\"></p>\n",
    "    <p id=\"classes\"></p>\n",
    "    \n",
    "    <script>\n",
    "        // Create the object\n",
    "        var obj = {\n",
    "            name: \"Avika\",\n",
    "            age: 15,\n",
    "            classes: [\"AP Chem\", \"AP Calculus AB\", \"AP English Seminar\", \"AP CSP\"]\n",
    "        };\n",
    "\n",
    "        // Set the inner HTML of the paragraphs\n",
    "        document.getElementById(\"name\").innerHTML = \"Name: \" + obj.name;\n",
    "        document.getElementById(\"age\").innerHTML = \"Age: \" + obj.age;\n",
    "        document.getElementById(\"classes\").innerHTML = \"Classes: \" + obj.classes.join(\", \");\n",
    "    </script>\n",
    "</body>\n",
    "</html>\n",
    "'''))"
   ]
  },
  {
   "cell_type": "markdown",
   "metadata": {},
   "source": [
    "## Conditional Operators"
   ]
  },
  {
   "cell_type": "code",
   "execution_count": 13,
   "metadata": {},
   "outputs": [
    {
     "data": {
      "text/html": [
       "<script>\n",
       "console.log(\"If statements + Operators\")\n",
       "var age1 = 17\n",
       "var age2 = 37\n",
       "\n",
       "if (age1 > age2) {\n",
       "    // runs if age1 is more than age2\n",
       "    console.log(\"age1 is more than age2\")\n",
       "\n",
       "} else if (age1 == age2) {\n",
       "    // runs if age1 and age2 are the same\n",
       "    console.log(\"age1 is the same as age2\")\n",
       "\n",
       "// (age1 < age2)\n",
       "} else  {\n",
       "    // runs if age2 is more than age1\n",
       "    console.log(\"age1 is less than age2\")\n",
       "}\n",
       "\n",
       "</script>\n"
      ],
      "text/plain": [
       "<IPython.core.display.HTML object>"
      ]
     },
     "metadata": {},
     "output_type": "display_data"
    }
   ],
   "source": [
    "%%html\n",
    "<script>\n",
    "console.log(\"If statements + Operators\")\n",
    "var age1 = 17\n",
    "var age2 = 37\n",
    "\n",
    "if (age1 > age2) {\n",
    "    // runs if age1 is more than age2\n",
    "    console.log(\"age1 is more than age2\")\n",
    "\n",
    "} else if (age1 == age2) {\n",
    "    // runs if age1 and age2 are the same\n",
    "    console.log(\"age1 is the same as age2\")\n",
    "\n",
    "// (age1 < age2)\n",
    "} else  {\n",
    "    // runs if age2 is more than age1\n",
    "    console.log(\"age1 is less than age2\")\n",
    "}\n",
    "\n",
    "</script>"
   ]
  },
  {
   "cell_type": "markdown",
   "metadata": {},
   "source": [
    "## Input: Grade Calculator"
   ]
  },
  {
   "cell_type": "code",
   "execution_count": 14,
   "metadata": {},
   "outputs": [
    {
     "data": {
      "text/html": [
       "\n",
       "<!-- Help Message -->\n",
       "<h3>Input scores, press tab to add each new number.</h3>\n",
       "<!-- Totals -->\n",
       "<ul>\n",
       "<li>\n",
       "    Total : <span id=\"total\">0.0</span>\n",
       "    Count : <span id=\"count\">0.0</span>\n",
       "    Average : <span id=\"average\">0.0</span>\n",
       "</li>\n",
       "</ul>\n",
       "<!-- Rows added using scores ID -->\n",
       "<div id=\"scores\">\n",
       "    <!-- javascript generated inputs -->\n",
       "</div>\n",
       "\n",
       "<script>\n",
       "// Executes on input event and calculates totals\n",
       "function calculator(event) {\n",
       "    var key = event.key;\n",
       "    // Check if the pressed key is the \"Tab\" key (key code 9) or \"Enter\" key (key code 13)\n",
       "    if (key === \"Tab\" || key === \"Enter\") { \n",
       "        event.preventDefault(); // Prevent default behavior (tabbing to the next element)\n",
       "   \n",
       "        var array = document.getElementsByName('score'); // setup array of scores\n",
       "        var total = 0;  // running total\n",
       "        var count = 0;  // count of input elements with valid values\n",
       "\n",
       "        for (var i = 0; i < array.length; i++) {  // iterate through array\n",
       "            var value = array[i].value;\n",
       "            if (parseFloat(value)) {\n",
       "                var parsedValue = parseFloat(value);\n",
       "                total += parsedValue;  // add to running total\n",
       "                count++;\n",
       "            }\n",
       "        }\n",
       "\n",
       "        // update totals\n",
       "        document.getElementById('total').innerHTML = total.toFixed(2); // show two decimals\n",
       "        document.getElementById('count').innerHTML = count;\n",
       "\n",
       "        if (count > 0) {\n",
       "            document.getElementById('average').innerHTML = (total / count).toFixed(2);\n",
       "        } else {\n",
       "            document.getElementById('average').innerHTML = \"0.0\";\n",
       "        }\n",
       "\n",
       "        // adds newInputLine, only if all array values satisfy parseFloat \n",
       "        if (count === document.getElementsByName('score').length) {\n",
       "            newInputLine(count); // make a new input line\n",
       "        }\n",
       "    }\n",
       "}\n",
       "\n",
       "// Creates a new input box\n",
       "function newInputLine(index) {\n",
       "\n",
       "    // Add a label for each score element\n",
       "    var title = document.createElement('label');\n",
       "    title.htmlFor = index;\n",
       "    title.innerHTML = index + \". \";    \n",
       "    document.getElementById(\"scores\").appendChild(title); // add to HTML\n",
       "\n",
       "    // Setup score element and attributes\n",
       "    var score = document.createElement(\"input\"); // input element\n",
       "    score.id =  index;  // id of input element\n",
       "    score.onkeydown = calculator // Each key triggers event (using function as a value)\n",
       "    score.type = \"number\"; // Use text type to allow typing multiple characters\n",
       "    score.name = \"score\";  // name is used to group all \"score\" elements (array)\n",
       "    score.style.textAlign = \"right\";\n",
       "    score.style.width = \"5em\";\n",
       "    document.getElementById(\"scores\").appendChild(score);  // add to HTML\n",
       "\n",
       "    // Create and add blank line after input box\n",
       "    var br = document.createElement(\"br\");  // line break element\n",
       "    document.getElementById(\"scores\").appendChild(br); // add to HTML\n",
       "\n",
       "    // Set focus on the new input line\n",
       "    document.getElementById(index).focus();\n",
       "}\n",
       "\n",
       "// Creates 1st input box on Window load\n",
       "newInputLine(0);\n",
       "\n",
       "</script>\n"
      ],
      "text/plain": [
       "<IPython.core.display.HTML object>"
      ]
     },
     "metadata": {},
     "output_type": "display_data"
    }
   ],
   "source": [
    "%%html\n",
    "\n",
    "<!-- Help Message -->\n",
    "<h3>Input scores, press tab to add each new number.</h3>\n",
    "<!-- Totals -->\n",
    "<ul>\n",
    "<li>\n",
    "    Total : <span id=\"total\">0.0</span>\n",
    "    Count : <span id=\"count\">0.0</span>\n",
    "    Average : <span id=\"average\">0.0</span>\n",
    "</li>\n",
    "</ul>\n",
    "<!-- Rows added using scores ID -->\n",
    "<div id=\"scores\">\n",
    "    <!-- javascript generated inputs -->\n",
    "</div>\n",
    "\n",
    "<script>\n",
    "// Executes on input event and calculates totals\n",
    "function calculator(event) {\n",
    "    var key = event.key;\n",
    "    // Check if the pressed key is the \"Tab\" key (key code 9) or \"Enter\" key (key code 13)\n",
    "    if (key === \"Tab\" || key === \"Enter\") { \n",
    "        event.preventDefault(); // Prevent default behavior (tabbing to the next element)\n",
    "   \n",
    "        var array = document.getElementsByName('score'); // setup array of scores\n",
    "        var total = 0;  // running total\n",
    "        var count = 0;  // count of input elements with valid values\n",
    "\n",
    "        for (var i = 0; i < array.length; i++) {  // iterate through array\n",
    "            var value = array[i].value;\n",
    "            if (parseFloat(value)) {\n",
    "                var parsedValue = parseFloat(value);\n",
    "                total += parsedValue;  // add to running total\n",
    "                count++;\n",
    "            }\n",
    "        }\n",
    "\n",
    "        // update totals\n",
    "        document.getElementById('total').innerHTML = total.toFixed(2); // show two decimals\n",
    "        document.getElementById('count').innerHTML = count;\n",
    "\n",
    "        if (count > 0) {\n",
    "            document.getElementById('average').innerHTML = (total / count).toFixed(2);\n",
    "        } else {\n",
    "            document.getElementById('average').innerHTML = \"0.0\";\n",
    "        }\n",
    "\n",
    "        // adds newInputLine, only if all array values satisfy parseFloat \n",
    "        if (count === document.getElementsByName('score').length) {\n",
    "            newInputLine(count); // make a new input line\n",
    "        }\n",
    "    }\n",
    "}\n",
    "\n",
    "// Creates a new input box\n",
    "function newInputLine(index) {\n",
    "\n",
    "    // Add a label for each score element\n",
    "    var title = document.createElement('label');\n",
    "    title.htmlFor = index;\n",
    "    title.innerHTML = index + \". \";    \n",
    "    document.getElementById(\"scores\").appendChild(title); // add to HTML\n",
    "\n",
    "    // Setup score element and attributes\n",
    "    var score = document.createElement(\"input\"); // input element\n",
    "    score.id =  index;  // id of input element\n",
    "    score.onkeydown = calculator // Each key triggers event (using function as a value)\n",
    "    score.type = \"number\"; // Use text type to allow typing multiple characters\n",
    "    score.name = \"score\";  // name is used to group all \"score\" elements (array)\n",
    "    score.style.textAlign = \"right\";\n",
    "    score.style.width = \"5em\";\n",
    "    document.getElementById(\"scores\").appendChild(score);  // add to HTML\n",
    "\n",
    "    // Create and add blank line after input box\n",
    "    var br = document.createElement(\"br\");  // line break element\n",
    "    document.getElementById(\"scores\").appendChild(br); // add to HTML\n",
    "\n",
    "    // Set focus on the new input line\n",
    "    document.getElementById(index).focus();\n",
    "}\n",
    "\n",
    "// Creates 1st input box on Window load\n",
    "newInputLine(0);\n",
    "\n",
    "</script>"
   ]
  }
 ],
 "metadata": {
  "kernelspec": {
   "display_name": "Python 3.12.3 ('venv': venv)",
   "language": "python",
   "name": "python3"
  },
  "language_info": {
   "codemirror_mode": {
    "name": "ipython",
    "version": 3
   },
   "file_extension": ".py",
   "mimetype": "text/x-python",
   "name": "python",
   "nbconvert_exporter": "python",
   "pygments_lexer": "ipython3",
   "version": "3.12.3"
  },
  "orig_nbformat": 4,
  "vscode": {
   "interpreter": {
    "hash": "bf569676fd74d20a0aa4ef08becfdc6e16f4ffe4c18f47548ca47d19e333d0fe"
   }
  }
 },
 "nbformat": 4,
 "nbformat_minor": 2
}
