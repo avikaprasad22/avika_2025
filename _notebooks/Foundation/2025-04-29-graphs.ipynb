{
 "cells": [
  {
   "cell_type": "raw",
   "id": "21b8dbc5",
   "metadata": {
    "vscode": {
     "languageId": "raw"
    }
   },
   "source": [
    "---\n",
    "layout: post\n",
    "title: Undecidable Problems, Graphs + Heuristics\n",
    "permalink: /graphs/\n",
    "author: Avika Prasad\n",
    "---"
   ]
  },
  {
   "cell_type": "markdown",
   "id": "96e00bad",
   "metadata": {},
   "source": [
    "## Popcorn Hack 1\n",
    "<img src=\"{{site.baseurl}}/images/graph.png\" style=\"max-width: 80%; border-radius: 10px; box-shadow: 5px 5px 15px rgba(0,0,0,0.2);\">\n",
    "\n",
    "Possible Routes and Their Costs:\n",
    "- A → B → D → E: 4 + 5 + 2 = 11\n",
    "\n",
    "- A → C → D → E: 2 + 8 + 2 = 12\n",
    "\n",
    "- A → C → B → D → E: 2 + 1 + 5 + 2 = 10\n",
    "\n",
    "- A → C → E: 2 + 10 = 12"
   ]
  },
  {
   "cell_type": "markdown",
   "id": "e5457ab0",
   "metadata": {},
   "source": [
    "## Homework Hack 1\n",
    "\n",
    "<h2> Question 1 </h2>\n",
    "\n",
    "<b>Configuration I:</b> To get from Q to V, you can go directly through the edge connecting them. You can also go through other paths, for example, Q -> T -> U -> V or Q -> R -> S -> V. Since there are multiple possible paths, Configuration I allows for redundant routing. \n",
    "\n",
    "<b>Configuration II:</b> To get from Q to V, there is a direct connection. You can also go from Q -> R -> S -> V, therefore Configuration II also allows for redundant routing.\n",
    "\n",
    "<h3> Answer: C </h3>\n",
    "\n",
    "<h2> Question 2 </h2>\n",
    "\n",
    "If we break the <b>U-V</b> conenction and the <b>U-P</b> connection, U won't be able to route with T. Therefore the two connections need to be broken.\n",
    "\n",
    "<h3> Answer: B </h3>"
   ]
  }
 ],
 "metadata": {
  "language_info": {
   "name": "python"
  }
 },
 "nbformat": 4,
 "nbformat_minor": 5
}
