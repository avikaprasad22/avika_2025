{
 "cells": [
  {
   "cell_type": "raw",
   "id": "512fd3b1",
   "metadata": {
    "vscode": {
     "languageId": "raw"
    }
   },
   "source": [
    "---\n",
    "layout: post\n",
    "title: Big O and Algorithmic Efficiency\n",
    "permalink: /bigO/\n",
    "author: Avika Prasad\n",
    "---"
   ]
  },
  {
   "cell_type": "markdown",
   "id": "ecdb9909",
   "metadata": {},
   "source": [
    "## Popcorn Hack 1\n",
    "The two most efficient strategies are:\n",
    "\n",
    "- Use the modulus operator (%) to check if the remainder when divided by 2 is 0.\n",
    "- Check if the last digit is 0, 2, 4, 6, or 8 manually.\n",
    "\n",
    "This is because both methods are O(1) (constant time) operations. They require just one simple check without loops or complex calculations. Modulus is the classic mathematical way, while checking the last digit is a quick shortcut when numbers are already available as digits or strings."
   ]
  },
  {
   "cell_type": "markdown",
   "id": "379552dc",
   "metadata": {},
   "source": [
    "## Popcorn Hack 2"
   ]
  },
  {
   "cell_type": "code",
   "execution_count": 3,
   "id": "7b771117",
   "metadata": {},
   "outputs": [
    {
     "name": "stdout",
     "output_type": "stream",
     "text": [
      "Testing with data size: 10000000\n",
      "Linear search: 0.881943 seconds\n",
      "Binary search: 0.000031 seconds\n",
      "Binary search is approximately 28455x faster\n"
     ]
    }
   ],
   "source": [
    "\n",
    "import time\n",
    "import random\n",
    "\n",
    "# Generate a large sorted list\n",
    "data_size = 10000000\n",
    "sorted_data = sorted(random.sample(range(100000000), data_size))\n",
    "\n",
    "# Target to find (worst case for linear search)\n",
    "target = sorted_data[-1]  # Last element\n",
    "\n",
    "# O(n) - Linear Search\n",
    "def linear_search(arr, target):\n",
    "    for i, element in enumerate(arr):\n",
    "        if element == target:\n",
    "            return i\n",
    "    return -1\n",
    "\n",
    "# O(log n) - Binary Search\n",
    "def binary_search(arr, target):\n",
    "    left, right = 0, len(arr) - 1\n",
    "    \n",
    "    while left <= right:\n",
    "        mid = (left + right) // 2\n",
    "        if arr[mid] == target:\n",
    "            return mid\n",
    "        elif arr[mid] < target:\n",
    "            left = mid + 1\n",
    "        else:\n",
    "            right = mid - 1\n",
    "    \n",
    "    return -1\n",
    "\n",
    "# Compare performance\n",
    "print(\"Testing with data size:\", data_size)\n",
    "\n",
    "start = time.time()\n",
    "linear_result = linear_search(sorted_data, target)\n",
    "linear_time = time.time() - start\n",
    "print(f\"Linear search: {linear_time:.6f} seconds\")\n",
    "\n",
    "start = time.time()\n",
    "binary_result = binary_search(sorted_data, target)\n",
    "binary_time = time.time() - start\n",
    "print(f\"Binary search: {binary_time:.6f} seconds\")\n",
    "\n",
    "print(f\"Binary search is approximately {linear_time/binary_time:.0f}x faster\")"
   ]
  },
  {
   "cell_type": "markdown",
   "id": "240e0045",
   "metadata": {},
   "source": [
    "When the data size is increased to 20000000, the time for linear search increases by around 0.2 seconds and the time for binary search remains practically the same, showing binary search may be better for larger data sets.\n",
    "<br>\n",
    "<br>\n",
    "These are the results:\n",
    "<br>\n",
    "<b>\n",
    "Testing with data size: 20000000\n",
    "<br>\n",
    "Linear search: 1.044598 seconds\n",
    "<br>\n",
    "Binary search: 0.000039 seconds\n",
    "<br>\n",
    "Binary search is approximately 26716x faster \n",
    "</b>"
   ]
  },
  {
   "cell_type": "markdown",
   "id": "d65f7899",
   "metadata": {},
   "source": [
    "## Homework Hack 1"
   ]
  },
  {
   "cell_type": "code",
   "execution_count": 4,
   "id": "a2bd2dca",
   "metadata": {},
   "outputs": [
    {
     "name": "stdout",
     "output_type": "stream",
     "text": [
      "Bubble Sort Time: 0.000228 seconds\n",
      "Merge Sort Time: 0.000093 seconds\n",
      "Merge Sort is faster.\n"
     ]
    }
   ],
   "source": [
    "import random\n",
    "import time\n",
    "\n",
    "# Bubble Sort\n",
    "def bubble_sort(arr):\n",
    "    n = len(arr)\n",
    "    for i in range(n):\n",
    "        for j in range(0, n-i-1):\n",
    "            if arr[j] > arr[j+1]:\n",
    "                arr[j], arr[j+1] = arr[j+1], arr[j]\n",
    "\n",
    "# Merge Sort\n",
    "def merge_sort(arr):\n",
    "    if len(arr) > 1:\n",
    "        mid = len(arr) // 2\n",
    "        L = arr[:mid]\n",
    "        R = arr[mid:]\n",
    "\n",
    "        merge_sort(L)\n",
    "        merge_sort(R)\n",
    "\n",
    "        i = j = k = 0\n",
    "\n",
    "        # Merging the sorted halves\n",
    "        while i < len(L) and j < len(R):\n",
    "            if L[i] < R[j]:\n",
    "                arr[k] = L[i]\n",
    "                i += 1\n",
    "            else:\n",
    "                arr[k] = R[j]\n",
    "                j += 1\n",
    "            k += 1\n",
    "\n",
    "        # Check if any element was left\n",
    "        while i < len(L):\n",
    "            arr[k] = L[i]\n",
    "            i += 1\n",
    "            k += 1\n",
    "\n",
    "        while j < len(R):\n",
    "            arr[k] = R[j]\n",
    "            j += 1\n",
    "            k += 1\n",
    "\n",
    "# Generate a list of 100 random numbers between 1 and 1000\n",
    "original_list = [random.randint(1, 1000) for _ in range(100)]\n",
    "\n",
    "# Test Bubble Sort\n",
    "list_for_bubble = original_list.copy()\n",
    "start_bubble = time.time()\n",
    "bubble_sort(list_for_bubble)\n",
    "end_bubble = time.time()\n",
    "\n",
    "# Test Merge Sort\n",
    "list_for_merge = original_list.copy()\n",
    "start_merge = time.time()\n",
    "merge_sort(list_for_merge)\n",
    "end_merge = time.time()\n",
    "\n",
    "# Output times\n",
    "time_bubble = end_bubble - start_bubble\n",
    "time_merge = end_merge - start_merge\n",
    "\n",
    "print(f\"Bubble Sort Time: {time_bubble:.6f} seconds\")\n",
    "print(f\"Merge Sort Time: {time_merge:.6f} seconds\")\n",
    "\n",
    "# Which is faster\n",
    "if time_bubble < time_merge:\n",
    "    print(\"Bubble Sort is faster.\")\n",
    "else:\n",
    "    print(\"Merge Sort is faster.\")\n"
   ]
  },
  {
   "cell_type": "markdown",
   "id": "04e54376",
   "metadata": {},
   "source": [
    "### Why does merge sort always outperform bubble sort?\n",
    "Merge Sort consistently outperforms Bubble Sort because it uses a divide-and-conquer strategy, breaking the list into smaller parts and sorting them efficiently, achieving O(n log n) time complexity.\n",
    "In contrast, Bubble Sort must compare every pair repeatedly, leading to a much slower O(n²) time, especially as the list grows."
   ]
  },
  {
   "cell_type": "markdown",
   "id": "62b1c182",
   "metadata": {},
   "source": [
    "## Homework Hack 2"
   ]
  },
  {
   "cell_type": "code",
   "execution_count": 5,
   "id": "4e0156bc",
   "metadata": {},
   "outputs": [
    {
     "name": "stdout",
     "output_type": "stream",
     "text": [
      "Target Number: 63001\n",
      "Linear Search Comparisons: 63001\n",
      "Binary Search Comparisons: 17\n",
      "Binary Search is faster (as expected!)\n"
     ]
    }
   ],
   "source": [
    "import random\n",
    "\n",
    "# Linear Search\n",
    "def linear_search(arr, target):\n",
    "    comparisons = 0\n",
    "    for i in range(len(arr)):\n",
    "        comparisons += 1\n",
    "        if arr[i] == target:\n",
    "            return i, comparisons\n",
    "    return -1, comparisons\n",
    "\n",
    "# Binary Search\n",
    "def binary_search(arr, target):\n",
    "    comparisons = 0\n",
    "    left, right = 0, len(arr) - 1\n",
    "    while left <= right:\n",
    "        comparisons += 1\n",
    "        mid = (left + right) // 2\n",
    "        if arr[mid] == target:\n",
    "            return mid, comparisons\n",
    "        elif arr[mid] < target:\n",
    "            left = mid + 1\n",
    "        else:\n",
    "            right = mid - 1\n",
    "    return -1, comparisons\n",
    "\n",
    "# Generate a sorted list of 100,000 numbers\n",
    "sorted_list = list(range(1, 100001))\n",
    "\n",
    "# Pick a random number to search for\n",
    "target_number = random.choice(sorted_list)\n",
    "\n",
    "# Search using Linear Search\n",
    "index_linear, comparisons_linear = linear_search(sorted_list, target_number)\n",
    "\n",
    "# Search using Binary Search\n",
    "index_binary, comparisons_binary = binary_search(sorted_list, target_number)\n",
    "\n",
    "# Output the results\n",
    "print(f\"Target Number: {target_number}\")\n",
    "print(f\"Linear Search Comparisons: {comparisons_linear}\")\n",
    "print(f\"Binary Search Comparisons: {comparisons_binary}\")\n",
    "\n",
    "# Which search algorithm is faster?\n",
    "if comparisons_linear < comparisons_binary:\n",
    "    print(\"Linear Search is faster (unexpected!)\")\n",
    "else:\n",
    "    print(\"Binary Search is faster (as expected!)\")\n"
   ]
  },
  {
   "cell_type": "markdown",
   "id": "83eb2c9d",
   "metadata": {},
   "source": [
    "### Which search algorithm is faster, and why?\n",
    "Binary Search is faster because it divides the search space in half every time (O(log n) time complexity), while Linear Search checks every element one-by-one (O(n) time complexity).\n",
    "\n",
    "### What happens if you run both searches on an unsorted list?\n",
    "Linear Search still works because it doesn’t rely on order, it just checks each item. Binary Search will fail or give wrong results because it assumes the list is already sorted to divide it correctly."
   ]
  }
 ],
 "metadata": {
  "kernelspec": {
   "display_name": "venv",
   "language": "python",
   "name": "python3"
  },
  "language_info": {
   "codemirror_mode": {
    "name": "ipython",
    "version": 3
   },
   "file_extension": ".py",
   "mimetype": "text/x-python",
   "name": "python",
   "nbconvert_exporter": "python",
   "pygments_lexer": "ipython3",
   "version": "3.12.3"
  }
 },
 "nbformat": 4,
 "nbformat_minor": 5
}
