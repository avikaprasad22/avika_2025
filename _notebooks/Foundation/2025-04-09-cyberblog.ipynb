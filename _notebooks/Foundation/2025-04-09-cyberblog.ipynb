{
 "cells": [
  {
   "cell_type": "raw",
   "id": "01348575",
   "metadata": {
    "vscode": {
     "languageId": "raw"
    }
   },
   "source": [
    "---\n",
    "layout: post\n",
    "title: Cybersecurity Panel\n",
    "permalink: /cyber/\n",
    "author: Avika Prasad\n",
    "---"
   ]
  },
  {
   "cell_type": "markdown",
   "id": "9ad4a9fe",
   "metadata": {},
   "source": [
    "# Notes\n",
    "\n",
    "**Question 1: What is a real-world cybersecutiry case that you've worked on that had a significant impact?**\n",
    "\n",
    "Ms. Mercer: She advices to always work with curiosity. She talks about there was a case where an individual was to say they were on leave for sometime but because they were still in company group chats, they were sectrely selling the company's data. Her curiousity and alertness about this individual helped them relaize that something was under threat and take the situation under control.\n",
    "\n",
    "**What is a zero-day?**\n",
    "\n",
    "A zero-day vulnerability is a flaw in software or hardware that is discovered and potentially exploited before the vendor or security community is aware of it, meaning there's no patch or fix available yet. \n",
    "\n",
    "**What inspired you to pursue cybersecurity?**\n",
    "\n",
    "\"I hate computers, I've always hated computers, I still hate computers.\" - Mr. Tomax But he was curious, and he pushed hard enough and even though he felt computers weren't for him, he pushed through and now has his job.\n",
    "\n",
    "**What should computer science students do to prepare for a career in cybersecurity?**\n",
    "\n",
    "\"Get experience in IT\" - Mr. Nzeata. The IT foundation is the most helpful for cybersecurity. \"Sometimes, you fall into the profession too\" - Mr. Tomaz. Soft skills are also important.\n",
    "\n",
    "**Future of Cybersecurity**\n",
    "\n",
    "A trend I see for the next 5-10 years is that there will be more cybersiurity in healthcare. More human elements essentially. (Protecting patient data).\n",
    "\n",
    "Networking is extremely important. It might not resonate right now, and maybe not even in college, but as soon as you enter the job market, you'll want to identify the best people in your field and be friends with them because they will help you learn and move you forward in your career.\n",
    "\n",
    "Key learning, takeaways and what we got out of this for extra credit."
   ]
  }
 ],
 "metadata": {
  "language_info": {
   "name": "python"
  }
 },
 "nbformat": 4,
 "nbformat_minor": 5
}
