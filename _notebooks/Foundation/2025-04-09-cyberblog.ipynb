{
 "cells": [
  {
   "cell_type": "raw",
   "id": "01348575",
   "metadata": {
    "vscode": {
     "languageId": "raw"
    }
   },
   "source": [
    "---\n",
    "layout: post\n",
    "title: Cybersecurity Panel\n",
    "permalink: /cyber/\n",
    "author: Avika Prasad\n",
    "---"
   ]
  },
  {
   "cell_type": "markdown",
   "id": "9ad4a9fe",
   "metadata": {},
   "source": [
    "# Notes\n",
    "\n",
    "\n",
    "**Question 1: What is a real-world cybersecurity case that you've worked on that had a significant impact?**\n",
    "\n",
    "\n",
    "Ms. Mercer: She advises to always work with curiosity. She talks about there was a case where an individual was to say they were on leave for sometime but because they were still in company group chats, they were secretly selling the company's data. Her curiosity and alertness about this individual helped them realize that something was under threat and take the situation under control.\n",
    "\n",
    "\n",
    "**What is a zero-day?**\n",
    "\n",
    "\n",
    "A zero-day vulnerability is a flaw in software or hardware that is discovered and potentially exploited before the vendor or security community is aware of it, meaning there's no patch or fix available yet.\n",
    "\n",
    "\n",
    "**What inspired you to pursue cybersecurity?**\n",
    "\n",
    "\n",
    "\"I hate computers, I've always hated computers, I still hate computers.\" - Mr. Tomasz But he was curious, and he pushed hard enough and even though he felt computers weren't for him, he pushed through and now has his job.\n",
    "\n",
    "\n",
    "**What should computer science students do to prepare for a career in cybersecurity?**\n",
    "\n",
    "\n",
    "\"Get experience in IT\" - Mr. Nzeata. The IT foundation is the most helpful for cybersecurity. \"Sometimes, you fall into the profession too\" - Mr. Tomasz. Soft skills are also important.\n",
    "\n",
    "\n",
    "**Future of Cybersecurity**\n",
    "\n",
    "\n",
    "Ms. Mercer mentions that a trend she sees for the next 5-10 years is that there will be more cybersecurity in healthcare. More human elements essentially. (Protecting patient data).\n",
    "\n",
    "\n",
    "Networking is extremely important. It might not resonate right now, and maybe not even in college, but as soon as you enter the job market, you'll want to identify the best people in your field and be friends with them because they will help you learn and move you forward in your career.\n",
    "\n",
    "\n",
    "## Key Learnings/Takeaways\n",
    "\n",
    "\n",
    "I learned a lot from the panelists' unique journeys and insights into cybersecurity. Tricia Mercer highlighted the importance of curiosity—her alertness helped catch someone secretly leaking company data while pretending to be on leave. David Tomasz admitted he’s always hated computers, but his curiosity led him to push through and build a successful career in cybersecurity. Victor Nzeata emphasized the value of having a strong IT foundation and mentioned how real-world experience is crucial for getting started. I found out that a zero-day is a dangerous vulnerability with no current fix, which makes it very serious. The panelists advised gaining IT experience, developing soft skills, and getting comfortable with learning as you go. They also spoke about the growing need for cybersecurity in the healthcare field. Lastly, networking and being surrounded by great people in the field can really help you grow in your career.\n",
    "\n",
    "\n",
    "## Next Steps\n",
    "\n",
    "\n",
    "Next, I plan to dive deeper into IT fundamentals and stay curious about how systems work behind the scenes. One of the panelists mentioned doing hackathons is a great way to learn about computers and computer science, so I plan to participate in many more in the future. This is perfect because I am the president of a club that hosts hackathons geared towards beginners/kids. Participating myself will help me gain a better understanding of the field and also gain experience to lead my club to success.\n",
    "\n",
    "\n",
    "## Photo!\n",
    "<img src=\"{{site.baseurl}}/images/cyber_panel.png\">\n",
    "\n"
   ]
  }
 ],
 "metadata": {
  "language_info": {
   "name": "python"
  }
 },
 "nbformat": 4,
 "nbformat_minor": 5
}
