{
 "cells": [
  {
   "cell_type": "code",
   "execution_count": 1,
   "metadata": {},
   "outputs": [
    {
     "name": "stdout",
     "output_type": "stream",
     "text": [
      "7\n",
      "2\n",
      "-13\n"
     ]
    }
   ],
   "source": [
    "def find_point(x):\n",
    "    # The equation of the line is f(x) = 5x + 2\n",
    "    y = 5 * x + 2\n",
    "    return y\n",
    "\n",
    "# Example usage:\n",
    "print(find_point(1))   # 7\n",
    "print(find_point(0))   # 2\n",
    "print(find_point(-3))  # -13"
   ]
  },
  {
   "cell_type": "code",
   "execution_count": null,
   "metadata": {
    "vscode": {
     "languageId": "javascript"
    }
   },
   "outputs": [],
   "source": [
    "// User profile data\n",
    "let fullName = \"Avika Prasad\";           // User's full name\n",
    "let age = 15;                        // User's age\n",
    "let email = \"avikapd22@gmail.com\";  // User's email address\n",
    "let accountBalance = 0;        // User's account balance\n",
    "\n",
    "// Displaying the user's profile\n",
    "console.log(\"User Profile:\");\n",
    "console.log(`Full Name: ${fullName}`);\n",
    "console.log(`Age: ${age}`);\n",
    "console.log(`Email: ${email}`);\n",
    "console.log(`Account Balance: $${accountBalance.toFixed(2)}`);"
   ]
  },
  {
   "cell_type": "code",
   "execution_count": 2,
   "metadata": {},
   "outputs": [
    {
     "name": "stdout",
     "output_type": "stream",
     "text": [
      "15\n",
      "5\n",
      "5.0\n",
      "Division by zero is not allowed\n",
      "1\n",
      "8\n"
     ]
    }
   ],
   "source": [
    "# Function to add two parameters\n",
    "def add(a, b):\n",
    "    return a + b\n",
    "\n",
    "# Function to subtract two parameters\n",
    "def subtract(a, b):\n",
    "    return a - b\n",
    "\n",
    "# Function to divide two parameters\n",
    "def divide(a, b):\n",
    "    # To avoid division by zero\n",
    "    if b == 0:\n",
    "        return \"Division by zero is not allowed\"\n",
    "    return a / b\n",
    "\n",
    "# Function to find the modulus of two parameters\n",
    "def modulus(a, b):\n",
    "    return a % b\n",
    "\n",
    "# Function to raise 'a' to the power of 'b'\n",
    "def power(a, b):\n",
    "    return a ** b\n",
    "\n",
    "# Example usage:\n",
    "print(add(10, 5))          # 15\n",
    "print(subtract(10, 5))     # 5\n",
    "print(divide(10, 2))       # 5.0\n",
    "print(divide(10, 0))       # Division by zero is not allowed\n",
    "print(modulus(10, 3))      # 1\n",
    "print(power(2, 3))         # 8"
   ]
  }
 ],
 "metadata": {
  "kernelspec": {
   "display_name": "Python 3.12.3 ('venv': venv)",
   "language": "python",
   "name": "python3"
  },
  "language_info": {
   "codemirror_mode": {
    "name": "ipython",
    "version": 3
   },
   "file_extension": ".py",
   "mimetype": "text/x-python",
   "name": "python",
   "nbconvert_exporter": "python",
   "pygments_lexer": "ipython3",
   "version": "3.12.3"
  },
  "orig_nbformat": 4,
  "vscode": {
   "interpreter": {
    "hash": "bf569676fd74d20a0aa4ef08becfdc6e16f4ffe4c18f47548ca47d19e333d0fe"
   }
  }
 },
 "nbformat": 4,
 "nbformat_minor": 2
}
