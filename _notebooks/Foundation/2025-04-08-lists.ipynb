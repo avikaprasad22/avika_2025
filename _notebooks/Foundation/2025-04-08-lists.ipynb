{
 "cells": [
  {
   "cell_type": "raw",
   "id": "796b72d1",
   "metadata": {
    "vscode": {
     "languageId": "raw"
    }
   },
   "source": [
    "---\n",
    "layout: post\n",
    "title: Lists & Filtering Algorithms HW Hack\n",
    "permalink: /lists/\n",
    "author: Avika Prasad\n",
    "---"
   ]
  },
  {
   "cell_type": "markdown",
   "id": "3e8ee1af",
   "metadata": {},
   "source": [
    "## Popcorn Hack 1\n",
    "**What are some possible benefits of using lists? What are some real world examples of lists being used in code?**\n",
    "Some possible benefits of using lists are that they can be used to store and manipulate collections of data. It is much more efficient and organized than creating multiple variables to store individual elements. Lists can also be used to create dynamic data structures that can be easily modified. A real lifeexample of a list is a playlist of songs on Spotify."
   ]
  },
  {
   "cell_type": "markdown",
   "id": "6c656fb0",
   "metadata": {},
   "source": [
    "## Popcorn Hack 2\n",
    "\n",
    "**What does this code output?** \n",
    "The code outputs eraser. First, it removes pencil leaving <code> [\"pen\", \"marker\", \"eraser\"] </code>. Then it appends sharpener, making it the last item in the list: <code> [\"pen\", \"marker\", \"eraser\", \"sharpener\"] </code>. Then it prints the word on the second index which is <code> \"eraser\" </code>"
   ]
  },
  {
   "cell_type": "code",
   "execution_count": 1,
   "id": "18bfa0d6",
   "metadata": {},
   "outputs": [
    {
     "name": "stdout",
     "output_type": "stream",
     "text": [
      "eraser\n"
     ]
    }
   ],
   "source": [
    "items = [\"pen\", \"pencil\", \"marker\", \"eraser\"]\n",
    "items.remove(\"pencil\")\n",
    "items.append(\"sharpener\")\n",
    "print(items[2])"
   ]
  },
  {
   "cell_type": "markdown",
   "id": "08ad9e64",
   "metadata": {},
   "source": [
    "## Popcorn Hack 3\n",
    "**What are some real world examples of filtering algorithms?**\n",
    "A real world example of a filtering algorithm would be a search engine, as it filters data through what you're inputting in the search and returns the values matching your search. Another example would be a spam filter on an email account, as it filters out unwanted emails from your inbox."
   ]
  },
  {
   "cell_type": "markdown",
   "id": "edf01fa3",
   "metadata": {},
   "source": [
    "## Homework Hacks:\n",
    "\n",
    "**1. Create a list that includes at least five items. Use at least three different list procedures: Label with comments where each list procedure is used and explain what it’s doing.**"
   ]
  },
  {
   "cell_type": "code",
   "execution_count": null,
   "id": "b5faff60",
   "metadata": {},
   "outputs": [
    {
     "name": "stdout",
     "output_type": "stream",
     "text": [
      "kiwi\n"
     ]
    }
   ],
   "source": [
    "fruits = [\"apple\", \"banana\", \"cherry\", \"strawberry\", \"kiwi\"]\n",
    "fruits.remove(\"banana\") # remove the second item, \"banana\".\n",
    "fruits.append(\"orange\") # adds \"orange\" to the end of the list.\n",
    "print(fruits[3]) # prints the fourth item (third index), \"kiwi\"."
   ]
  },
  {
   "cell_type": "markdown",
   "id": "ef59ea12",
   "metadata": {},
   "source": [
    "**2. Write the steps for how you would go through your list one item at a time. Clearly describe how the traversal happens (loop type and structure).**\n",
    "\n",
    "To go through the items of my list one by one, I would iterate through it using a for loop. Here is the structure:"
   ]
  },
  {
   "cell_type": "code",
   "execution_count": 3,
   "id": "fb7672c0",
   "metadata": {},
   "outputs": [
    {
     "name": "stdout",
     "output_type": "stream",
     "text": [
      "apple\n",
      "banana\n",
      "cherry\n",
      "strawberry\n",
      "kiwi\n"
     ]
    }
   ],
   "source": [
    "fruits = [\"apple\", \"banana\", \"cherry\", \"strawberry\", \"kiwi\"]\n",
    "for i in fruits:\n",
    "    print(i) # prints each item in the list."
   ]
  },
  {
   "cell_type": "markdown",
   "id": "4e25dba2",
   "metadata": {},
   "source": [
    "**3. Filtering Algorithm (Use pandas - database filtering) Instructions:**\n",
    "- Choose a condition\n",
    "- Write out the steps you would take to:\n",
    "- Start with a list\n",
    "- Go through each item (traversal)\n",
    "- Apply your condition"
   ]
  },
  {
   "cell_type": "code",
   "execution_count": 1,
   "id": "7fd78973",
   "metadata": {},
   "outputs": [
    {
     "name": "stdout",
     "output_type": "stream",
     "text": [
      "    name  age\n",
      "1    Bob   35\n",
      "3  Diana   40\n"
     ]
    }
   ],
   "source": [
    "import pandas as pd\n",
    "\n",
    "data = [\n",
    "    {'name': 'Alice', 'age': 25},\n",
    "    {'name': 'Bob', 'age': 35},\n",
    "    {'name': 'Charlie', 'age': 30},\n",
    "    {'name': 'Diana', 'age': 40}\n",
    "]\n",
    "\n",
    "# Convert list into a DataFrame\n",
    "df = pd.DataFrame(data)\n",
    "\n",
    "filtered_df = df[df['age'] > 30]\n",
    "\n",
    "print(filtered_df)"
   ]
  }
 ],
 "metadata": {
  "kernelspec": {
   "display_name": "venv",
   "language": "python",
   "name": "python3"
  },
  "language_info": {
   "codemirror_mode": {
    "name": "ipython",
    "version": 3
   },
   "file_extension": ".py",
   "mimetype": "text/x-python",
   "name": "python",
   "nbconvert_exporter": "python",
   "pygments_lexer": "ipython3",
   "version": "3.12.3"
  }
 },
 "nbformat": 4,
 "nbformat_minor": 5
}
