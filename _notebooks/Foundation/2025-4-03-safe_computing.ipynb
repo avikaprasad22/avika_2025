{
 "cells": [
  {
   "cell_type": "raw",
   "metadata": {
    "vscode": {
     "languageId": "raw"
    }
   },
   "source": [
    "---\n",
    "layout: post\n",
    "title: Safe Computing HW Hack\n",
    "permalink: /sc/\n",
    "author: Avika Prasad\n",
    "---"
   ]
  },
  {
   "cell_type": "code",
   "execution_count": 10,
   "metadata": {},
   "outputs": [
    {
     "name": "stdout",
     "output_type": "stream",
     "text": [
      "Random shift value chosen: 1\n",
      "Result: Gh! Lx mzld hr Zuhjz\n"
     ]
    }
   ],
   "source": [
    "import random\n",
    "\n",
    "def caesar_cipher(text, shift, mode):\n",
    "    result = \"\"\n",
    "    for char in text:\n",
    "        if char.isalpha():  # This part of the code only encrypts letters\n",
    "            shift_amount = shift if mode == \"encrypt\" else -shift\n",
    "            new_char = chr(((ord(char.lower()) - 97 + shift_amount) % 26) + 97)\n",
    "            result += new_char.upper() if char.isupper() else new_char\n",
    "        else:\n",
    "            result += char  # This keeps the spaces and position unchanged\n",
    "    return result\n",
    "\n",
    "# Generate a random shift value\n",
    "shift = random.randint(1, 25)\n",
    "print(f\"Random shift value chosen: {shift}\")\n",
    "\n",
    "# Get user input\n",
    "mode = input(\"Do you want to encrypt or decrypt? \").strip().lower()\n",
    "message = input(\"Enter your message: \")\n",
    "\n",
    "# Perform encryption/decryption\n",
    "output = caesar_cipher(message, shift, mode)\n",
    "print(f\"Result: {output}\")"
   ]
  }
 ],
 "metadata": {
  "kernelspec": {
   "display_name": "venv",
   "language": "python",
   "name": "python3"
  },
  "language_info": {
   "codemirror_mode": {
    "name": "ipython",
    "version": 3
   },
   "file_extension": ".py",
   "mimetype": "text/x-python",
   "name": "python",
   "nbconvert_exporter": "python",
   "pygments_lexer": "ipython3",
   "version": "3.12.3"
  }
 },
 "nbformat": 4,
 "nbformat_minor": 2
}
