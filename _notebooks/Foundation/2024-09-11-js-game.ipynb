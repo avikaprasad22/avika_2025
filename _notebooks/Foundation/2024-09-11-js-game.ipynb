{
 "cells": [
  {
   "cell_type": "markdown",
   "metadata": {},
   "source": [
    "---\n",
    "layout: post\n",
    "title: JS Game\n",
    "desrcription: Hack 2 - JS Game\n",
    "comments: true\n",
    "permalink: /jsgame/\n",
    "---"
   ]
  },
  {
   "cell_type": "code",
   "execution_count": null,
   "metadata": {
    "vscode": {
     "languageId": "html"
    }
   },
   "outputs": [],
   "source": [
    "<!DOCTYPE html>\n",
    "<html lang=\"en\">\n",
    "<head>\n",
    "    <meta charset=\"UTF-8\">\n",
    "    <meta name=\"viewport\" content=\"width=device-width, initial-scale=1.0\">\n",
    "    <title>Guess the Number Game</title>\n",
    "    <style>\n",
    "        body {\n",
    "            display: flex;\n",
    "            flex-direction: column;\n",
    "            justify-content: center;\n",
    "            align-items: center;\n",
    "            height: 100vh;\n",
    "            margin: 0;\n",
    "            background-color: #f0f0f0;\n",
    "            font-family: Arial, sans-serif;\n",
    "        }\n",
    "        #game {\n",
    "            text-align: center;\n",
    "        }\n",
    "        input, button {\n",
    "            margin: 10px;\n",
    "            padding: 10px;\n",
    "            font-size: 16px;\n",
    "        }\n",
    "        #message {\n",
    "            font-size: 18px;\n",
    "            font-weight: bold;\n",
    "        }\n",
    "        #attempts {\n",
    "            font-size: 16px;\n",
    "        }\n",
    "    </style>\n",
    "</head>\n",
    "<body>\n",
    "    <div id=\"game\">\n",
    "        <h1>Guess the Number</h1>\n",
    "        <p>Guess a number between 1 and 100:</p>\n",
    "        <input type=\"number\" id=\"guessInput\" min=\"1\" max=\"100\" />\n",
    "        <button id=\"guessButton\">Guess</button>\n",
    "        <p id=\"message\"></p>\n",
    "        <p id=\"attempts\">Attempts: 0</p>\n",
    "    </div>\n",
    "    <script src=\"game.js\"></script>\n",
    "</body>\n",
    "</html>"
   ]
  },
  {
   "cell_type": "code",
   "execution_count": null,
   "metadata": {
    "vscode": {
     "languageId": "javascript"
    }
   },
   "outputs": [],
   "source": [
    "const guessInput = document.getElementById('guessInput');\n",
    "const guessButton = document.getElementById('guessButton');\n",
    "const messageDisplay = document.getElementById('message');\n",
    "const attemptsDisplay = document.getElementById('attempts');\n",
    "\n",
    "const min = 1;\n",
    "const max = 100;\n",
    "let secretNumber = Math.floor(Math.random() * (max - min + 1)) + min;\n",
    "let attempts = 0;\n",
    "\n",
    "guessButton.addEventListener('click', () => {\n",
    "    const userGuess = parseInt(guessInput.value);\n",
    "    if (isNaN(userGuess) || userGuess < min || userGuess > max) {\n",
    "        messageDisplay.textContent = `Please enter a number between ${min} and ${max}.`;\n",
    "        return;\n",
    "    }\n",
    "\n",
    "    attempts++;\n",
    "    attemptsDisplay.textContent = `Attempts: ${attempts}`;\n",
    "\n",
    "    if (userGuess === secretNumber) {\n",
    "        messageDisplay.textContent = `Congratulations! You guessed the number ${secretNumber} in ${attempts} attempts.`;\n",
    "        resetGame();\n",
    "    } else if (userGuess < secretNumber) {\n",
    "        messageDisplay.textContent = 'Too low! Try again.';\n",
    "    } else {\n",
    "        messageDisplay.textContent = 'Too high! Try again.';\n",
    "    }\n",
    "});\n",
    "\n",
    "function resetGame() {\n",
    "    secretNumber = Math.floor(Math.random() * (max - min + 1)) + min;\n",
    "    attempts = 0;\n",
    "    attemptsDisplay.textContent = `Attempts: ${attempts}`;\n",
    "}"
   ]
  }
 ],
 "metadata": {
  "kernelspec": {
   "display_name": "Python 3.12.3 ('venv': venv)",
   "language": "python",
   "name": "python3"
  },
  "language_info": {
   "name": "python",
   "version": "3.12.3"
  },
  "orig_nbformat": 4,
  "vscode": {
   "interpreter": {
    "hash": "bf569676fd74d20a0aa4ef08becfdc6e16f4ffe4c18f47548ca47d19e333d0fe"
   }
  }
 },
 "nbformat": 4,
 "nbformat_minor": 2
}
