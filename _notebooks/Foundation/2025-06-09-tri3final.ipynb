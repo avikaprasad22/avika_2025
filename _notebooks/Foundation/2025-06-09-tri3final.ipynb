{
 "cells": [
  {
   "cell_type": "raw",
   "id": "ca62fe51",
   "metadata": {
    "vscode": {
     "languageId": "raw"
    }
   },
   "source": [
    "---\n",
    "layout: post\n",
    "title: Tri 3 Final Blog\n",
    "permalink: /tri3final/\n",
    "author: Avika Prasad\n",
    "---"
   ]
  },
  {
   "cell_type": "markdown",
   "id": "817121e5",
   "metadata": {},
   "source": [
    "<!-- Buttons -->\n",
    "<p align=\"center\">\n",
    "  <a href=\"https://github.com/avikaprasad22\" target=\"_blank\">\n",
    "    <img alt=\"GitHub\" src=\"https://img.shields.io/badge/GitHub-181717?style=for-the-badge&logo=github&logoColor=white\" />\n",
    "  </a>\n",
    "  <a href=\"https://www.linkedin.com/in/avika-prasad/\" target=\"_blank\">\n",
    "    <img alt=\"LinkedIn\" src=\"https://img.shields.io/badge/LinkedIn-0077B5?style=for-the-badge&logo=linkedin&logoColor=white\" />\n",
    "  </a>\n",
    "  <a href=\"mailto:avikapd22@gmail.com?subject=Hello%20from%20your%20portfolio!\" target=\"_blank\">\n",
    "    <img alt=\"Email\" src=\"https://img.shields.io/badge/Email-D14836?style=for-the-badge&logo=gmail&logoColor=white\" />\n",
    "  </a>\n",
    "</p>\n",
    "\n",
    "<!-- QR Code -->\n",
    "<p align=\"center\">\n",
    "  <b>Scan to View My Resume</b><br>\n",
    "  <img src=\"{{site.baseurl}}/images/resume_qr.png\" alt=\"Resume QR Code\" width=\"250\" height=\"250\">\n",
    "</p>"
   ]
  },
  {
   "cell_type": "markdown",
   "id": "b62537ec",
   "metadata": {},
   "source": [
    "## Overview of Projects (Journey through CSP)\n",
    "\n",
    "Over the course of the year, working on GeneScope and The Bookworms allowed me to apply and expand my full stack development skills, integrating Python, SQLite, and RESTful APIs to build efficient and scalable applications. I utilized Agile methodologies and Scrum practices to manage project workflows, ensuring timely delivery and team coordination. Through GitHub and Visual Studio Code, I maintained clean version control and a productive coding environment. On the frontend, I enhanced UI/UX design using HTML, CSS, and JavaScript, creating user-friendly interfaces. These projects also strengthened my abilities in team collaboration, terminal operations, and understanding real-world software deployment practices. I also learned soft skills and what it meant to be on a team. My teamwork skills weren't as strong, but after I gained feedback, I was able to improve my communication, making for example, GeneScope's features more cohesive."
   ]
  },
  {
   "cell_type": "markdown",
   "id": "b3ab4c91",
   "metadata": {},
   "source": [
    "## Night @ the Museum\n",
    "<span>\n",
    "<a href=\"https://github.com/avikaprasad22/genescope/issues/44\"> <button style=\"background-color: #F88379; color: white; padding: 10px\"> Presentation Plan </button> </a>\n",
    "<a href=\"https://www.linkedin.com/posts/avika-prasad_last-thursday-i-had-the-opportunity-to-present-activity-7338072917605273603-FaGD?utm_source=social_share_send&utm_medium=member_desktop_web&rcm=ACoAAEnZrBMBCsY2jO9N6JQYHddeRxm_ATZWOfI\"> <button style=\"background-color: #F88379; color: white; padding: 10px\"> My N@tM LinkedIn Post </button> </a>\n",
    "</span>"
   ]
  },
  {
   "cell_type": "markdown",
   "id": "7d269a38",
   "metadata": {},
   "source": [
    "## Stats\n",
    "<img src=\"{{site.baseurl}}/images/dashboard.png\">\n",
    "<span>\n",
    "<img src=\"{{site.baseurl}}/images/commits_grade.png\">\n",
    "<img src=\"{{site.baseurl}}/images/smart_grade.png\">\n",
    "</span>"
   ]
  }
 ],
 "metadata": {
  "language_info": {
   "name": "python"
  }
 },
 "nbformat": 4,
 "nbformat_minor": 5
}
