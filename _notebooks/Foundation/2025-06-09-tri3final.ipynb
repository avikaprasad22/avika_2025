{
 "cells": [
  {
   "cell_type": "raw",
   "id": "ca62fe51",
   "metadata": {
    "vscode": {
     "languageId": "raw"
    }
   },
   "source": [
    "---\n",
    "layout: post\n",
    "title: Tri 3 Final Blog\n",
    "permalink: /tri3final/\n",
    "author: Avika Prasad\n",
    "---"
   ]
  },
  {
   "cell_type": "markdown",
   "id": "b62537ec",
   "metadata": {},
   "source": [
    "## Overview of Projects (Journey through CSP)\n",
    "\n",
    "Over the course of the year, working on GeneScope and The Bookworms allowed me to apply and expand my full stack development skills, integrating Python, SQLite, and RESTful APIs to build efficient and scalable applications. I utilized Agile methodologies and Scrum practices to manage project workflows, ensuring timely delivery and team coordination. Through GitHub and Visual Studio Code, I maintained clean version control and a productive coding environment. On the frontend, I enhanced UI/UX design using HTML, CSS, and JavaScript, creating user-friendly interfaces. These projects also strengthened my abilities in team collaboration, terminal operations, and understanding real-world software deployment practices. I also learned soft skills and what it meant to be on a team. My teamwork skills weren't as strong, but after I gained feedback, I was able to improve my communication, making for example, GeneScope's features more cohesive."
   ]
  },
  {
   "cell_type": "markdown",
   "id": "f0579578",
   "metadata": {},
   "source": [
    "## Homework Success \n",
    "\n",
    "<table>\n",
    "  <tr>\n",
    "    <th>HWs</th>\n",
    "    <th></th>\n",
    "  </tr>\n",
    "  <tr>\n",
    "    <td> <a href=\"https://github.com/avikaprasad22/avika_2025/issues/14\"> <button style=\"background-color: #F88379; color: white; padding: 10px\"> Beneficial Harmful Effects </button> </a> </td> \n",
    "    <td> <a href=\"{{site.baseurl}}/dd/\"> <button style=\"background-color: #F88379; color: white; padding: 10px\"> Digital Divide </button> </a> </td>\n",
    "  </tr>\n",
    "  <tr>\n",
    "    <td> <a href=\"{{site.baseurl}}/compbias/\"> <button style=\"background-color: #F88379; color: white; padding: 10px\"> Computing Bias </button> </a> </td> \n",
    "    <td> <a href=\"{{site.baseurl}}/crowd/\"> <button style=\"background-color: #F88379; color: white; padding: 10px\"> Crowdsourcing </button> </a> </td>\n",
    "  </tr>\n",
    "  <tr>\n",
    "    <td> <a href=\"{{site.baseurl}}/sc/\"> <button style=\"background-color: #F88379; color: white; padding: 10px\"> Safe Computing </button> </a> </td> \n",
    "    <td>\n",
    "    <a href=\"{{site.baseurl}}/lists/\"> <button style=\"background-color: #F88379; color: white; padding: 10px\"> Lists </button> </a> </td>\n",
    "  </tr>\n",
    "  <tr>\n",
    "    <td> <a href=\"{{site.baseurl}}/binary/\"> <button style=\"background-color: #F88379; color: white; padding: 10px\"> Binary Search </button> </a> </td> \n",
    "    <td>\n",
    "    <a href=\"{{site.baseurl}}/simulation/\"> <button style=\"background-color: #F88379; color: white; padding: 10px\"> Simulations </button> </a> </td>\n",
    "  </tr>\n",
    "  <tr>\n",
    "    <td> <a href=\"{{site.baseurl}}/bigO/\"> <button style=\"background-color: #F88379; color: white; padding: 10px\"> Big O </button> </a> </td> \n",
    "    <td>\n",
    "    <a href=\"{{site.baseurl}}/graphs/\"> <button style=\"background-color: #F88379; color: white; padding: 10px\"> Heuristics/Graphs </button> </a> </td>\n",
    "  </tr>\n",
    "  <tr>\n",
    "    <td> <a href=\"{{site.baseurl}}/colorcodes/\"> <button style=\"background-color: #F88379; color: white; padding: 10px\"> Color Codes </button> </a> </td> \n",
    "    <td>\n",
    "    <a href=\"{{site.baseurl}}/base2/\"> <button style=\"background-color: #F88379; color: white; padding: 10px\"> Base 2/Logic Gates </button> </a> </td>\n",
    "  </tr>\n",
    "</table>"
   ]
  },
  {
   "cell_type": "markdown",
   "id": "b3ab4c91",
   "metadata": {},
   "source": [
    "## Night @ the Museum\n",
    "<span>\n",
    "<a href=\"https://github.com/avikaprasad22/genescope/issues/44\"> <button style=\"background-color: #F88379; color: white; padding: 10px\"> Presentation Plan </button> </a>\n",
    "<a href=\"https://www.linkedin.com/posts/avika-prasad_last-thursday-i-had-the-opportunity-to-present-activity-7338072917605273603-FaGD?utm_source=social_share_send&utm_medium=member_desktop_web&rcm=ACoAAEnZrBMBCsY2jO9N6JQYHddeRxm_ATZWOfI\"> <button style=\"background-color: #F88379; color: white; padding: 10px\"> My N@tM LinkedIn Post </button> </a>\n",
    "</span>"
   ]
  },
  {
   "cell_type": "markdown",
   "id": "7d269a38",
   "metadata": {},
   "source": [
    "## Stats\n",
    "<img src=\"{{site.baseurl}}/images/dashboard.png\">\n",
    "<span>\n",
    "<img src=\"{{site.baseurl}}/images/commits_grade.png\">\n",
    "<img src=\"{{site.baseurl}}/images/smart_grade.png\">\n",
    "</span>"
   ]
  }
 ],
 "metadata": {
  "language_info": {
   "name": "python"
  }
 },
 "nbformat": 4,
 "nbformat_minor": 5
}
