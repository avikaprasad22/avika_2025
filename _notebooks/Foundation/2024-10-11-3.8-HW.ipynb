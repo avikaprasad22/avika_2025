{
 "cells": [
  {
   "cell_type": "code",
   "execution_count": 2,
   "metadata": {},
   "outputs": [
    {
     "name": "stdout",
     "output_type": "stream",
     "text": [
      "1\n",
      "2\n",
      "4\n",
      "5\n"
     ]
    }
   ],
   "source": [
    "# List of numbers to iterate through\n",
    "numbers = [1, 2, 3, 4, 5, 6, 7, 8]\n",
    "\n",
    "# Iterate through the list of numbers\n",
    "for number in numbers:\n",
    "    if number == 3:\n",
    "        # Skip over the number 3\n",
    "        continue\n",
    "    elif number == 6:\n",
    "        # Stop the loop when 6 is encountered\n",
    "        break\n",
    "    else:\n",
    "        # Print the remaining numbers that follow the rules\n",
    "        print(number)"
   ]
  },
  {
   "cell_type": "code",
   "execution_count": 3,
   "metadata": {},
   "outputs": [
    {
     "name": "stdout",
     "output_type": "stream",
     "text": [
      "red\n",
      "blue\n",
      "green\n",
      "yellow\n",
      "purple\n"
     ]
    }
   ],
   "source": [
    "# List of colors\n",
    "colors = ['red', 'blue', 'green', 'yellow', 'purple']\n",
    "\n",
    "# Iterate through the list of colors and print each one\n",
    "for color in colors:\n",
    "    print(color)"
   ]
  },
  {
   "cell_type": "code",
   "execution_count": 4,
   "metadata": {},
   "outputs": [
    {
     "name": "stdout",
     "output_type": "stream",
     "text": [
      "apple: 10\n",
      "banana: 5\n",
      "orange: 8\n",
      "grapes: 15\n",
      "mango: 3\n"
     ]
    }
   ],
   "source": [
    "# Dictionary of fruits with their quantities\n",
    "fruits = {\n",
    "    'apple': 10,\n",
    "    'banana': 5,\n",
    "    'orange': 8,\n",
    "    'grapes': 15,\n",
    "    'mango': 3\n",
    "}\n",
    "\n",
    "# Iterate through the dictionary and print the fruit's name and quantity\n",
    "for fruit, quantity in fruits.items():\n",
    "    print(f\"{fruit}: {quantity}\")"
   ]
  }
 ],
 "metadata": {
  "kernelspec": {
   "display_name": "Python 3.12.3 ('venv': venv)",
   "language": "python",
   "name": "python3"
  },
  "language_info": {
   "codemirror_mode": {
    "name": "ipython",
    "version": 3
   },
   "file_extension": ".py",
   "mimetype": "text/x-python",
   "name": "python",
   "nbconvert_exporter": "python",
   "pygments_lexer": "ipython3",
   "version": "3.12.3"
  },
  "orig_nbformat": 4,
  "vscode": {
   "interpreter": {
    "hash": "bf569676fd74d20a0aa4ef08becfdc6e16f4ffe4c18f47548ca47d19e333d0fe"
   }
  }
 },
 "nbformat": 4,
 "nbformat_minor": 2
}
