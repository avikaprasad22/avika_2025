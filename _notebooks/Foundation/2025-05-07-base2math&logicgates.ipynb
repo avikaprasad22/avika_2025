{
 "cells": [
  {
   "cell_type": "raw",
   "id": "68fa272a",
   "metadata": {
    "vscode": {
     "languageId": "raw"
    }
   },
   "source": [
    "---\n",
    "layout: post\n",
    "title: Base 2 Math and Logic Gates HW\n",
    "permalink: /base2/\n",
    "author: Avika Prasad\n",
    "---"
   ]
  },
  {
   "cell_type": "markdown",
   "id": "fcb0c565",
   "metadata": {},
   "source": [
    "## Popcorn Hack 1\n",
    "Are these binary or not binary?\n",
    "\n",
    "- 101010\n",
    "    - Yes, this string is binary because it consists of all zeros and ones.\n",
    "\n",
    "- 12301\n",
    "    - No, this string is not binary because it has other numbers besides zeros and ones.\n",
    "\n",
    "- 11001\n",
    "    - Yes, this string is binary because it contains only zeros and ones."
   ]
  },
  {
   "cell_type": "markdown",
   "id": "edf976c3",
   "metadata": {},
   "source": [
    "## Popcorn Hack 2 (binary arithmetic)\n",
    "\n",
    "### Binary Addtion Rules:\n",
    "\n",
    "| A | B | Sum | Carry                            |\n",
    "| - | - | --- | -------------------------------- |\n",
    "| 0 | 0 | 0   | 0                                |\n",
    "| 0 | 1 | 1   | 0                                |\n",
    "| 1 | 0 | 1   | 0                                |\n",
    "| 1 | 1 | 0   | 1                                |\n",
    "| 1 | 1 | 1   | 1 (when there's already a carry) |\n",
    "\n",
    "- Add these:\n",
    "    <br>\n",
    "    -   101\n",
    "    <br>\n",
    "    -  +110\n",
    "    <br>\n",
    "    - <b>1001</b>\n",
    "<br>\n",
    "\n",
    "- Add these:\n",
    "    <br>\n",
    "    -    111\n",
    "    <br>\n",
    "    -  +1001\n",
    "    <br>\n",
    "    - <b>1110</b>\n",
    "\n",
    "### Binary Subtraction Rules:\n",
    "\n",
    "| A (minuend) | B (subtrahend) | Borrow | Result | New Borrow |\n",
    "| ----------- | -------------- | ------ | ------ | ---------- |\n",
    "| 0           | 0              | 0      | 0      | 0          |\n",
    "| 1           | 0              | 0      | 1      | 0          |\n",
    "| 1           | 1              | 0      | 0      | 0          |\n",
    "| 0           | 1              | 0      | 1      | 1 (borrow) |\n",
    "\n",
    "\n",
    "- Subtract these:\n",
    "    -   1101\n",
    "    -  -1011\n",
    "    - <b>0010</b>"
   ]
  },
  {
   "cell_type": "markdown",
   "id": "0450072e",
   "metadata": {},
   "source": [
    "## Popcorn Hack 3 (True/False Logic):\n",
    "\n",
    "What will be the result of this expression?\n",
    "\n",
    "<code>True or False and False</code>\n",
    "\n",
    "### Answer: True\n",
    "\n",
    "What will be the result of this expression?\n",
    "\n",
    "<code>not True and False</code>\n",
    "\n",
    "### Answer: False\n",
    "\n",
    "What will be the result of this expression?\n",
    "\n",
    "<code>True or False and not False</code>\n",
    "\n",
    "### Answer: True"
   ]
  },
  {
   "cell_type": "markdown",
   "id": "9895f808",
   "metadata": {},
   "source": [
    "## Homework Hack 1"
   ]
  },
  {
   "cell_type": "code",
   "execution_count": 1,
   "id": "cd0e5760",
   "metadata": {},
   "outputs": [
    {
     "name": "stdout",
     "output_type": "stream",
     "text": [
      "Decimal to Binary:\n",
      "0 -> 0\n",
      "1 -> 1\n",
      "-1 -> -1\n",
      "5 -> 101\n",
      "-10 -> -1010\n",
      "255 -> 11111111\n",
      "-128 -> -10000000\n",
      "\n",
      "Binary to Decimal:\n",
      "0 -> 0\n",
      "1 -> 1\n",
      "-1 -> -1\n",
      "101 -> 5\n",
      "-1010 -> -10\n",
      "11111111 -> 255\n",
      "-10000000 -> -128\n"
     ]
    }
   ],
   "source": [
    "def decimal_to_binary(n):\n",
    "    \"\"\"Converts a decimal number to binary (supports negatives).\"\"\"\n",
    "    if n == 0:\n",
    "        return \"0\"\n",
    "    is_negative = n < 0\n",
    "    n = abs(n)\n",
    "    binary = \"\"\n",
    "    while n > 0:\n",
    "        binary = str(n % 2) + binary\n",
    "        n //= 2\n",
    "    return \"-\" + binary if is_negative else binary\n",
    "\n",
    "\n",
    "def binary_to_decimal(binary_str):\n",
    "    \"\"\"Converts a binary string to a decimal number (supports negatives).\"\"\"\n",
    "    if not binary_str:\n",
    "        raise ValueError(\"Input cannot be empty\")\n",
    "    \n",
    "    is_negative = binary_str.startswith(\"-\")\n",
    "    binary_str = binary_str.lstrip(\"-\")\n",
    "    \n",
    "    decimal = 0\n",
    "    for i, digit in enumerate(reversed(binary_str)):\n",
    "        if digit not in \"01\":\n",
    "            raise ValueError(\"Invalid binary string\")\n",
    "        decimal += int(digit) * (2 ** i)\n",
    "    \n",
    "    return -decimal if is_negative else decimal\n",
    "\n",
    "\n",
    "# Test cases\n",
    "test_numbers = [0, 1, -1, 5, -10, 255, -128]\n",
    "\n",
    "print(\"Decimal to Binary:\")\n",
    "for num in test_numbers:\n",
    "    print(f\"{num} -> {decimal_to_binary(num)}\")\n",
    "\n",
    "print(\"\\nBinary to Decimal:\")\n",
    "for num in test_numbers:\n",
    "    binary = decimal_to_binary(num)\n",
    "    print(f\"{binary} -> {binary_to_decimal(binary)}\")\n"
   ]
  },
  {
   "cell_type": "markdown",
   "id": "d96e65ae",
   "metadata": {},
   "source": [
    "## Homework Hack 2"
   ]
  },
  {
   "cell_type": "code",
   "execution_count": null,
   "id": "2e1aef70",
   "metadata": {},
   "outputs": [],
   "source": [
    "import time\n",
    "\n",
    "difficulty = input(\"Enter difficulty (easy, medium, hard): \").lower().strip()\n",
    "\n",
    "while difficulty != \"easy\" or difficulty != \"medium\" or difficulty != \"hard\":\n",
    "    print(\"Please enter a valid difficulty level.\")\n",
    "    difficulty = input(\"Enter difficulty (easy, medium, hard): \").lower().strip()\n",
    "    time.sleep(0.5)\n",
    "\n",
    "print(\"Difficulty set to:\", difficulty)"
   ]
  },
  {
   "cell_type": "markdown",
   "id": "de100b26",
   "metadata": {},
   "source": [
    "### Instead of using \"or\", the while loop should use \"and\". This is because the loop should continue only if all three condtions are not met. With the current set up, if the reader doesn't type easy, the loop automatically returns \"please enter a valid level\" when really the user could have just enter \"medium\" or \"hard\" instead. The \"and\" makes sure neither \"easy\", \"medium\", or \"hard\" were entered before asking for a valid input."
   ]
  }
 ],
 "metadata": {
  "kernelspec": {
   "display_name": "venv",
   "language": "python",
   "name": "python3"
  },
  "language_info": {
   "codemirror_mode": {
    "name": "ipython",
    "version": 3
   },
   "file_extension": ".py",
   "mimetype": "text/x-python",
   "name": "python",
   "nbconvert_exporter": "python",
   "pygments_lexer": "ipython3",
   "version": "3.12.3"
  }
 },
 "nbformat": 4,
 "nbformat_minor": 5
}
