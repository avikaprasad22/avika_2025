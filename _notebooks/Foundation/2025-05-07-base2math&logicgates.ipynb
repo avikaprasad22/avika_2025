{
 "cells": [
  {
   "cell_type": "raw",
   "id": "68fa272a",
   "metadata": {
    "vscode": {
     "languageId": "raw"
    }
   },
   "source": [
    "---\n",
    "layout: post\n",
    "title: Base 2 Math and Logic Gates HW\n",
    "permalink: /base2/\n",
    "author: Avika Prasad\n",
    "---"
   ]
  },
  {
   "cell_type": "markdown",
   "id": "fcb0c565",
   "metadata": {},
   "source": [
    "## Popcorn Hack 1\n",
    "Are these binary or not binary?\n",
    "\n",
    "- 101010\n",
    "    - Yes, this string is binary because it consists of all zeros and ones.\n",
    "\n",
    "- 12301\n",
    "    - No, this string is not binary because it has other numbers besides zeros and ones.\n",
    "\n",
    "- 11001\n",
    "    - Yes, this string is binary because it contains only zeros and ones."
   ]
  },
  {
   "cell_type": "markdown",
   "id": "edf976c3",
   "metadata": {},
   "source": [
    "## Popcorn Hack 2 (binary arithmetic)\n",
    "\n",
    "### Binary Addtion Rules:\n",
    "\n",
    "| A | B | Sum | Carry                            |\n",
    "| - | - | --- | -------------------------------- |\n",
    "| 0 | 0 | 0   | 0                                |\n",
    "| 0 | 1 | 1   | 0                                |\n",
    "| 1 | 0 | 1   | 0                                |\n",
    "| 1 | 1 | 0   | 1                                |\n",
    "| 1 | 1 | 1   | 1 (when there's already a carry) |\n",
    "\n",
    "- Add these:\n",
    "    <br>\n",
    "    -   101\n",
    "    <br>\n",
    "    -  +110\n",
    "    <br>\n",
    "    - <b>1001</b>\n",
    "<br>\n",
    "\n",
    "- Add these:\n",
    "    <br>\n",
    "    -    111\n",
    "    <br>\n",
    "    -  +1001\n",
    "    <br>\n",
    "    - <b>1110</b>\n",
    "\n",
    "### Binary Subtraction Rules:\n",
    "\n",
    "| A (minuend) | B (subtrahend) | Borrow | Result | New Borrow |\n",
    "| ----------- | -------------- | ------ | ------ | ---------- |\n",
    "| 0           | 0              | 0      | 0      | 0          |\n",
    "| 1           | 0              | 0      | 1      | 0          |\n",
    "| 1           | 1              | 0      | 0      | 0          |\n",
    "| 0           | 1              | 0      | 1      | 1 (borrow) |\n",
    "\n",
    "\n",
    "- Subtract these:\n",
    "    -   1101\n",
    "    -  -1011\n",
    "    - <b>0010</b>"
   ]
  }
 ],
 "metadata": {
  "language_info": {
   "name": "python"
  }
 },
 "nbformat": 4,
 "nbformat_minor": 5
}
