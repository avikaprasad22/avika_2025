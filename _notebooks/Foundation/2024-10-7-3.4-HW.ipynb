{
 "cells": [
  {
   "cell_type": "code",
   "execution_count": 1,
   "metadata": {},
   "outputs": [
    {
     "name": "stdout",
     "output_type": "stream",
     "text": [
      "The number of vowels in the given string is: 3\n"
     ]
    }
   ],
   "source": [
    "# Function to count vowels in a given string\n",
    "def count_vowels(input_string):\n",
    "    # Define the vowels (including uppercase and lowercase)\n",
    "    vowels = \"aeiouAEIOU\"\n",
    "    \n",
    "    # Initialize the vowel count to 0\n",
    "    vowel_count = 0\n",
    "    \n",
    "    # Loop through each character in the string\n",
    "    for char in input_string:\n",
    "        # Check if the character is a vowel\n",
    "        if char in vowels:\n",
    "            vowel_count += 1\n",
    "    \n",
    "    return vowel_count\n",
    "\n",
    "# Example usage in Jupyter Notebook\n",
    "input_string = input(\"Enter a string: \")\n",
    "vowel_count = count_vowels(input_string)\n",
    "\n",
    "# Display the result\n",
    "print(f\"The number of vowels in the given string is: {vowel_count}\")"
   ]
  },
  {
   "cell_type": "code",
   "execution_count": 2,
   "metadata": {
    "vscode": {
     "languageId": "javascript"
    }
   },
   "outputs": [
    {
     "ename": "SyntaxError",
     "evalue": "unterminated string literal (detected at line 8) (1338769762.py, line 8)",
     "output_type": "error",
     "traceback": [
      "\u001b[0;36m  Cell \u001b[0;32mIn[2], line 8\u001b[0;36m\u001b[0m\n\u001b[0;31m    let message = `Hello, ${userName}! You are ${userAge} years old, love eating ${favoriteFood}, and enjoy reading \"${favoriteBook}\". That's awesome!`;\u001b[0m\n\u001b[0m                                                                                                                                           ^\u001b[0m\n\u001b[0;31mSyntaxError\u001b[0m\u001b[0;31m:\u001b[0m unterminated string literal (detected at line 8)\n"
     ]
    }
   ],
   "source": [
    "// Prompting the user for information\n",
    "let userName = prompt(\"What is your name?\");\n",
    "let userAge = prompt(\"How old are you?\");\n",
    "let favoriteFood = prompt(\"What is your favorite food?\");\n",
    "let favoriteBook = prompt(\"What is your favorite book?\");\n",
    "\n",
    "// Creating a cohesive message using string interpolation\n",
    "let message = `Hello, ${userName}! You are ${userAge} years old, love eating ${favoriteFood}, and enjoy reading \"${favoriteBook}\". That's awesome!`;\n",
    "\n",
    "// Displaying the message\n",
    "console.log(message);\n",
    "alert(message);"
   ]
  }
 ],
 "metadata": {
  "kernelspec": {
   "display_name": "Python 3.12.3 ('venv': venv)",
   "language": "python",
   "name": "python3"
  },
  "language_info": {
   "codemirror_mode": {
    "name": "ipython",
    "version": 3
   },
   "file_extension": ".py",
   "mimetype": "text/x-python",
   "name": "python",
   "nbconvert_exporter": "python",
   "pygments_lexer": "ipython3",
   "version": "3.12.3"
  },
  "orig_nbformat": 4,
  "vscode": {
   "interpreter": {
    "hash": "bf569676fd74d20a0aa4ef08becfdc6e16f4ffe4c18f47548ca47d19e333d0fe"
   }
  }
 },
 "nbformat": 4,
 "nbformat_minor": 2
}
