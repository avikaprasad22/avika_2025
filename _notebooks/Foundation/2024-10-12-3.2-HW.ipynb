{
 "cells": [
  {
   "cell_type": "markdown",
   "metadata": {},
   "source": [
    "## 3.2.1 Popcorn Hack"
   ]
  },
  {
   "cell_type": "code",
   "execution_count": null,
   "metadata": {},
   "outputs": [],
   "source": [
    "# Function to add two integers\n",
    "def add_numbers(a, b):\n",
    "    return a + b\n",
    "\n",
    "# Function to subtract two integers\n",
    "def subtract_numbers(a, b):\n",
    "    return a - b\n",
    "\n",
    "# Main function\n",
    "def main():\n",
    "    # Take input from the user\n",
    "    num1 = int(input(\"Enter the first integer: \"))\n",
    "    num2 = int(input(\"Enter the second integer: \"))\n",
    "    \n",
    "    # Ask the user for the operation they want to perform\n",
    "    operation = input(\"Enter '+' for addition or '-' for subtraction: \")\n",
    "    \n",
    "    # Perform the operation based on user input\n",
    "    if operation == '+':\n",
    "        result = add_numbers(num1, num2)\n",
    "        print(f\"The result of {num1} + {num2} is: {result}\")\n",
    "    elif operation == '-':\n",
    "        result = subtract_numbers(num1, num2)\n",
    "        print(f\"The result of {num1} - {num2} is: {result}\")\n",
    "    else:\n",
    "        print(\"Invalid operation! Please enter '+' or '-'.\")\n",
    "\n",
    "# Run the main function\n",
    "if __name__ == \"__main__\":\n",
    "    main()"
   ]
  },
  {
   "cell_type": "markdown",
   "metadata": {},
   "source": [
    "## 3.2.2 Popcorn Hack"
   ]
  },
  {
   "cell_type": "code",
   "execution_count": 1,
   "metadata": {},
   "outputs": [
    {
     "name": "stdout",
     "output_type": "stream",
     "text": [
      "Original Dictionary: {'name': 'Avika', 'age': 15, 'city': 'San Diego'}\n",
      "Dictionary after update: {'name': 'Avika', 'age': 16, 'city': 'San Diego'}\n",
      "Dictionary after adding new item: {'name': 'Avika', 'age': 16, 'city': 'San Diego', 'country': 'USA'}\n"
     ]
    }
   ],
   "source": [
    "# Create a dictionary\n",
    "my_dict = {\n",
    "    \"name\": \"Avika\",\n",
    "    \"age\": 15,\n",
    "    \"city\": \"San Diego\"\n",
    "}\n",
    "\n",
    "# Print the original dictionary\n",
    "print(\"Original Dictionary:\", my_dict)\n",
    "\n",
    "# Update an existing item (changing age)\n",
    "my_dict[\"age\"] = 16\n",
    "\n",
    "# Print the dictionary after updating\n",
    "print(\"Dictionary after update:\", my_dict)\n",
    "\n",
    "# Add a new item (e.g., country)\n",
    "my_dict[\"country\"] = \"USA\"\n",
    "\n",
    "# Print the dictionary after adding new item\n",
    "print(\"Dictionary after adding new item:\", my_dict)"
   ]
  },
  {
   "cell_type": "markdown",
   "metadata": {},
   "source": [
    "## Homework Hacks"
   ]
  },
  {
   "cell_type": "code",
   "execution_count": 4,
   "metadata": {},
   "outputs": [
    {
     "name": "stdout",
     "output_type": "stream",
     "text": [
      "{'dog': 'mammal', 'fish': 'sea-creature', 'frog': 'amphibian'}\n"
     ]
    }
   ],
   "source": [
    "# Create a dictionary with at least 3 keys. Print the dictionary.\n",
    "types_of_animals = {\n",
    "    \"dog\" : \"mammal\",\n",
    "    \"fish\" : \"sea-creature\",\n",
    "    \"frog\" : \"amphibian\"\n",
    "}\n",
    "\n",
    "print(types_of_animals)"
   ]
  },
  {
   "cell_type": "code",
   "execution_count": 2,
   "metadata": {},
   "outputs": [
    {
     "name": "stdout",
     "output_type": "stream",
     "text": [
      "{'name': 'Alice', 'age': '31'}\n"
     ]
    }
   ],
   "source": [
    "# Start with this dictionary: person = {\"name\": \"Alice\", \"age\": 30}\n",
    "# i. Update the age to 31\n",
    "# ii. print the updated dictionary.\n",
    "\n",
    "person = {\n",
    "    \"name\" : \"Alice\",\n",
    "    \"age\": \"30\"\n",
    "}\n",
    "\n",
    "person[\"age\"] = \"31\"\n",
    "\n",
    "print(person)"
   ]
  }
 ],
 "metadata": {
  "kernelspec": {
   "display_name": "Python 3.12.3 ('venv': venv)",
   "language": "python",
   "name": "python3"
  },
  "language_info": {
   "codemirror_mode": {
    "name": "ipython",
    "version": 3
   },
   "file_extension": ".py",
   "mimetype": "text/x-python",
   "name": "python",
   "nbconvert_exporter": "python",
   "pygments_lexer": "ipython3",
   "version": "3.12.3"
  },
  "orig_nbformat": 4,
  "vscode": {
   "interpreter": {
    "hash": "bf569676fd74d20a0aa4ef08becfdc6e16f4ffe4c18f47548ca47d19e333d0fe"
   }
  }
 },
 "nbformat": 4,
 "nbformat_minor": 2
}
