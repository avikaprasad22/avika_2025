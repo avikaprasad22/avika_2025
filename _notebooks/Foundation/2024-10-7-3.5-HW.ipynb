{
 "cells": [
  {
   "cell_type": "code",
   "execution_count": null,
   "metadata": {},
   "outputs": [],
   "source": [
    "def should_go_outside(temperature, is_raining):\n",
    "    # Check if temperature is below 100 degrees and it's raining\n",
    "    if temperature < 100 and is_raining:\n",
    "        return True\n",
    "    # Check if temperature is above 32 degrees and it's not raining\n",
    "    elif temperature > 32 and not is_raining:\n",
    "        return True\n",
    "    # For all other conditions, return False\n",
    "    else:\n",
    "        return False\n",
    "\n",
    "# Example usage:\n",
    "print(should_go_outside(95, True))   # True\n",
    "print(should_go_outside(40, False))  # True\n",
    "print(should_go_outside(101, True))  # False\n",
    "print(should_go_outside(25, False))  # False"
   ]
  },
  {
   "cell_type": "code",
   "execution_count": null,
   "metadata": {
    "vscode": {
     "languageId": "javascript"
    }
   },
   "outputs": [],
   "source": [
    "let stayInside = !(isRaining && isCold);"
   ]
  },
  {
   "cell_type": "markdown",
   "metadata": {},
   "source": [
    "Using De Morgan’s Law (!(A && B) is equivalent to !A || !B), so the simplified version of Expression 1 is:"
   ]
  },
  {
   "cell_type": "code",
   "execution_count": null,
   "metadata": {
    "vscode": {
     "languageId": "javascript"
    }
   },
   "outputs": [],
   "source": [
    "let stayInside = !isRaining || !isCold;"
   ]
  },
  {
   "cell_type": "code",
   "execution_count": null,
   "metadata": {
    "vscode": {
     "languageId": "javascript"
    }
   },
   "outputs": [],
   "source": [
    "let stayInside = !(isRaining || isCold);"
   ]
  },
  {
   "cell_type": "markdown",
   "metadata": {},
   "source": [
    "Using De Morgan’s Law (!(A || B) is equivalent to !A && !B)so the simplified version of Expression 2 is:"
   ]
  },
  {
   "cell_type": "code",
   "execution_count": null,
   "metadata": {
    "vscode": {
     "languageId": "javascript"
    }
   },
   "outputs": [],
   "source": [
    "let stayInside = !isRaining && !isCold;"
   ]
  }
 ],
 "metadata": {
  "kernelspec": {
   "display_name": "Python 3.12.3 ('venv': venv)",
   "language": "python",
   "name": "python3"
  },
  "language_info": {
   "codemirror_mode": {
    "name": "ipython",
    "version": 3
   },
   "file_extension": ".py",
   "mimetype": "text/x-python",
   "name": "python",
   "nbconvert_exporter": "python",
   "pygments_lexer": "ipython3",
   "version": "3.12.3"
  },
  "orig_nbformat": 4,
  "vscode": {
   "interpreter": {
    "hash": "bf569676fd74d20a0aa4ef08becfdc6e16f4ffe4c18f47548ca47d19e333d0fe"
   }
  }
 },
 "nbformat": 4,
 "nbformat_minor": 2
}
