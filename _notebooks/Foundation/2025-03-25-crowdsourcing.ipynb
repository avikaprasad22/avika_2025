{
 "cells": [
  {
   "cell_type": "raw",
   "metadata": {
    "vscode": {
     "languageId": "raw"
    }
   },
   "source": [
    "---\n",
    "layout: post\n",
    "title: Crowdsourcing\n",
    "permalink: /crowd/\n",
    "author: Avika Prasad\n",
    "---"
   ]
  },
  {
   "cell_type": "markdown",
   "metadata": {},
   "source": [
    "## What is crowdsourcing?\n",
    "Crowdsourcing is a method of obtaining ideas, content, or services by soliciting contributions from a large group of people, typically from an online community.\n",
    "\n",
    "## Popcorn Hack #1\n",
    "\n",
    "**4 Types of Crowdsourcing:**\n",
    "\n",
    "<u>Crowdfunding</u>:\n",
    "- Purpose: Raising money by collecting small contributions from a large group of people.\n",
    "\n",
    "<u>Crowd Creation</u>:\n",
    "- Purpose: Gathering creative input from a crowd, often for content generation or design.\n",
    "\n",
    "<u>Crowd Voting</u>:\n",
    "- Purpose: Collecting public opinion or feedback to make decisions or rank options.\n",
    "\n",
    "<u>Crowd Wisdom</u>:\n",
    "- Purpose: Using collective intelligence for decision-making or problem-solving.\n",
    "\n",
    "## Popcorn Hack #2\n",
    "\n",
    "**What is data crowdsourcing, and how does it contribute to open-source development? Provide 3+ examples of public datasets that have been created through crowdsourcing efforts.**\n",
    "\n",
    "Data crowdsourcing is crowdsourcing that collects data from many individuals. Examples of the pyblic datasets that this information is fetched from are Google Open Images, UCI Machine Learning Repository, NASA Earth Observations (NEO), and World Back Open Data.\n",
    "\n",
    "## Popcorn Hack #3\n",
    "\n",
    "**How does distributed computing contribute to innovations through crowdsourcing? Provide 3+ examples of successful projects that have utilized distributed computing and crowdsourcing to obtain data.** \n",
    "\n",
    "Distributed computing enables innovations through crowdsourcing by facilitating the decentralized sharing of tasks and knowledge. Some examples are social media (Instagram, Tik Tok, etc.), Amazon (lots of different sellers, people can leave reviews), and Wikipedia (crowdsourced knowledge).\n",
    "\n",
    "## Homework Question\n",
    "\n",
    "**Write 4+ sentences on the impact of crowdsourcing on modern innovation. Should cover: Crowdsourcing and its significance in today’s age, The different types of crowdsourcing, How distributed computing enhances crowdsourcing efforts, and How data crowdsourcing has contributed to open source development. Then reflect in a sentence or two on the future potential of crowdsourcing in driving innovation.**\n",
    "\n",
    "Crowdsourcing is a big deal in today’s world because it lets people from all over work together to solve problems, create new things, and share ideas. There are different kinds of crowdsourcing, like idea crowdsourcing (where companies ask the public for suggestions), microtasking (where small tasks are spread out to many people), crowdfunding (where people donate money to fund projects), and data crowdsourcing (where lots of people help collect and organize data). Distributed computing makes crowdsourcing even more powerful by splitting up big tasks among many computers, making things faster and more efficient. Data crowdsourcing has also helped open-source development, with people from all over the world working together on things like Linux and Wikipedia. In the future, crowdsourcing will likely become even more important, especially as new technologies like AI make it easier and safer for people to collaborate.\n"
   ]
  }
 ],
 "metadata": {
  "language_info": {
   "name": "python"
  }
 },
 "nbformat": 4,
 "nbformat_minor": 2
}
