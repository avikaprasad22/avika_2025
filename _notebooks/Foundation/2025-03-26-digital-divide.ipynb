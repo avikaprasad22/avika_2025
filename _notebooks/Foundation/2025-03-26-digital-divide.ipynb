{
 "cells": [
  {
   "cell_type": "raw",
   "metadata": {
    "vscode": {
     "languageId": "raw"
    }
   },
   "source": [
    "---\n",
    "layout: post\n",
    "title: Digital Divide\n",
    "permalink: /dd/\n",
    "author: Avika Prasad\n",
    "---"
   ]
  },
  {
   "cell_type": "markdown",
   "metadata": {},
   "source": [
    "## Popcorn Hacks 1 & 2\n",
    "\n",
    "1. Identify one area (e.g., education, employment, healthcare, or community participation) where you’ve seen the digital divide in action. How does it affect people in different socioeconomic backgrounds?\n",
    "\n",
    "**Answer:** The digital divide in education affects students from low-income backgrounds who lack reliable internet, personal devices, and a proper study environment, making it harder for them to succeed compared to wealthier peers. This gap worsens inequality, limiting opportunities for skill development and future job prospects. Without better access to technology, the cycle of poverty continues.\n",
    "\n",
    "2. Can you think of a computing innovation that might unintentionally exclude certain groups? Why might that happen?\n",
    "\n",
    "**Answer:** Facial recognition technology can unintentionally exclude certain groups, especially people with darker skin tones, due to biased training data that primarily includes lighter-skinned individuals. This can lead to inaccurate identification, security issues, and even discrimination in areas like law enforcement or hiring. Such biases happen because AI models often reflect the data they are trained on, which may not be diverse enough.\n",
    "\n",
    "## HW Hack\n",
    "\n",
    "Write 5 sentences describing what you have noticed about the digital divide in your own community. Consider how socioeconomic factors, location, and access to technology may play a role. Then explain how you can personally help bridge this gap—perhaps through awareness, advocating for policy changes, or supporting community-based tech programs. Make sure each sentence provides a clear insight or action step.\n",
    "\n",
    "**Answer:** ​In the 4S Ranch community of San Diego, the digital divide manifests in various ways:​\n",
    "\n",
    "Despite the area's general affluence, some households still lack access to affordable high-speed internet, highlighting that digital inequities can exist even in well-off communities. ​Seniors in 4S Ranch often face challenges with digital literacy, limiting their ability to fully engage with online services and resources. ​The reliance on digital-only deals by local businesses can disadvantage residents without regular internet access or digital proficiency. ​\n",
    "(ABC 10 News San Diego KGTV). While public Wi-Fi is available in many parts of San Diego, there may be gaps in coverage within 4S Ranch, affecting those who depend on these services. Economic disparities, though less pronounced in 4S Ranch, still contribute to unequal access to technology and internet services among residents. ​\n",
    "(San Diego Foundation)"
   ]
  }
 ],
 "metadata": {
  "language_info": {
   "name": "python"
  }
 },
 "nbformat": 4,
 "nbformat_minor": 2
}
